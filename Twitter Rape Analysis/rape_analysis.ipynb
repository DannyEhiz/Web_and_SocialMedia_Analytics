{
 "cells": [
  {
   "cell_type": "code",
   "execution_count": 1,
   "metadata": {},
   "outputs": [
    {
     "name": "stderr",
     "output_type": "stream",
     "text": [
      "c:\\Users\\BIOLA\\Desktop\\Data Science Projects\\Learnings\\Twitter Analysis\\twitter_env3.8\\lib\\site-packages\\tqdm\\auto.py:22: TqdmWarning: IProgress not found. Please update jupyter and ipywidgets. See https://ipywidgets.readthedocs.io/en/stable/user_install.html\n",
      "  from .autonotebook import tqdm as notebook_tqdm\n",
      "None of PyTorch, TensorFlow >= 2.0, or Flax have been found. Models won't be available and only tokenizers, configuration and file/data utilities can be used.\n"
     ]
    }
   ],
   "source": [
    "import pandas as pd\n",
    "import snscrape.modules.twitter as sn\n",
    "from textblob import TextBlob\n",
    "import neattext\n",
    "import plotly.express as px\n",
    "import plotly.graph_objects as go\n",
    "import plotly.offline as pyo # Set notebook mode to work in offline\n",
    "pyo.init_notebook_mode()\n",
    "import plotly.io as pio # Plotly renderer\n",
    "from plotly.subplots import make_subplots #to make more than one plot in Plotly\n",
    "import numpy as np\n",
    "from transformers import pipeline\n",
    "from neattext.pipeline import TextPipeline\n",
    "import neattext.functions as nfx\n",
    "from sklearn.pipeline import Pipeline\n",
    "from datetime import datetime\n",
    "from sklearn.feature_extraction.text import TfidfVectorizer\n",
    "from sklearn.naive_bayes import MultinomialNB\n",
    "from sklearn.pipeline import make_pipeline\n",
    "from sklearn.model_selection import train_test_split\n",
    "from sklearn.feature_extraction.text import CountVectorizer\n",
    "from sklearn.ensemble import RandomForestClassifier\n",
    "import seaborn as sns\n",
    "import matplotlib.pyplot as plt\n",
    "%matplotlib inline\n",
    "\n",
    "import nltk\n",
    "nltk.download('punkt')\n",
    "from nltk.tokenize import word_tokenize # to create word tokens\n",
    "# from nltk.stem import PorterStemmer \n",
    "from nltk.stem import WordNetLemmatizer # to reduce words to orginal form\n",
    "from nltk import pos_tag # For Parts of Speech tagging"
   ]
  },
  {
   "cell_type": "markdown",
   "metadata": {},
   "source": [
    "### Data Mining"
   ]
  },
  {
   "cell_type": "code",
   "execution_count": 103,
   "metadata": {},
   "outputs": [],
   "source": [
    "# query =  'rapist (#rape OR #assualt OR #abuse OR #rapist OR #sexual_assualt OR #sexual_abuse) lang:en) until:2022-04-30'\n",
    "query = '((#SayNoToRape)) lang:en'\n",
    "\n",
    "tweet_words = []\n",
    "limit = 4000\n",
    "for tweet in sn.TwitterSearchScraper(query).get_items():\n",
    "    if len(tweet_words) == limit:\n",
    "        break\n",
    "    else:\n",
    "        tweet_words.append([tweet.date, tweet.user.displayname, \n",
    "            tweet.content, tweet.lang, tweet.source])\n",
    "\n",
    "Say_no_to_rape = pd.DataFrame(tweet_words, columns=['Date', 'DisplayName', 'Tweets', 'Language', 'location'])\n",
    "\n"
   ]
  },
  {
   "cell_type": "code",
   "execution_count": 3,
   "metadata": {},
   "outputs": [],
   "source": [
    "# query =  'rapist (#rape OR #assualt OR #abuse OR #rapist OR #sexual_assualt OR #sexual_abuse) lang:en) until:2022-04-30'\n",
    "query = 'rape culture lang:en'\n",
    "\n",
    "tweet_words = []\n",
    "limit = 4000\n",
    "for tweet in sn.TwitterSearchScraper(query).get_items():\n",
    "    if len(tweet_words) == limit:\n",
    "        break\n",
    "    else:\n",
    "        tweet_words.append([tweet.date, tweet.user.displayname, \n",
    "            tweet.content, tweet.lang, tweet.source])\n",
    "\n",
    "rape_culture2 = pd.DataFrame(tweet_words, columns=['Date', 'DisplayName', 'Tweets', 'Language', 'location'])\n",
    "\n"
   ]
  },
  {
   "cell_type": "code",
   "execution_count": 4,
   "metadata": {},
   "outputs": [],
   "source": [
    "# query =  'rapist (#rape OR #assualt OR #abuse OR #rapist OR #sexual_assualt OR #sexual_abuse) lang:en) until:2022-04-30'\n",
    "query = '(rape_culture) (#rape_culture) lang:en'\n",
    "\n",
    "tweet_words = []\n",
    "limit = 4000\n",
    "for tweet in sn.TwitterSearchScraper(query).get_items():\n",
    "    if len(tweet_words) == limit:\n",
    "        break\n",
    "    else:\n",
    "        tweet_words.append([tweet.date, tweet.user.displayname, \n",
    "            tweet.content, tweet.lang, tweet.source])\n",
    "\n",
    "df = pd.DataFrame(tweet_words, columns=['Date', 'DisplayName', 'Tweets', 'Language', 'location'])\n",
    "\n"
   ]
  },
  {
   "cell_type": "code",
   "execution_count": 5,
   "metadata": {},
   "outputs": [],
   "source": [
    "# query =  'rapist (#rape OR #assualt OR #abuse OR #rapist OR #sexual_assualt OR #sexual_abuse) lang:en) until:2022-04-30'\n",
    "query = 'call to action rape lang:en'\n",
    "\n",
    "tweet_words = []\n",
    "limit = 4000\n",
    "for tweet in sn.TwitterSearchScraper(query).get_items():\n",
    "    if len(tweet_words) == limit:\n",
    "        break\n",
    "    else:\n",
    "        tweet_words.append([tweet.date, tweet.user.displayname, \n",
    "            tweet.content, tweet.lang, tweet.source])\n",
    "\n",
    "call_to_action = pd.DataFrame(tweet_words, columns=['Date', 'DisplayName', 'Tweets', 'Language', 'location'])\n",
    "\n"
   ]
  },
  {
   "cell_type": "code",
   "execution_count": 6,
   "metadata": {},
   "outputs": [],
   "source": [
    "# query =  'rapist (#rape OR #assualt OR #abuse OR #rapist OR #sexual_assualt OR #sexual_abuse) lang:en) until:2022-04-30'\n",
    "query = 'Self Defense Suggestion rape lang:en'\n",
    "\n",
    "tweet_words = []\n",
    "limit = 4000\n",
    "for tweet in sn.TwitterSearchScraper(query).get_items():\n",
    "    if len(tweet_words) == limit:\n",
    "        break\n",
    "    else:\n",
    "        tweet_words.append([tweet.date, tweet.user.displayname, \n",
    "            tweet.content, tweet.lang, tweet.source])\n",
    "\n",
    "self_defence = pd.DataFrame(tweet_words, columns=['Date', 'DisplayName', 'Tweets', 'Language', 'location'])\n",
    "\n"
   ]
  },
  {
   "cell_type": "code",
   "execution_count": 7,
   "metadata": {},
   "outputs": [],
   "source": [
    "# query =  'rapist (#rape OR #assualt OR #abuse OR #rapist OR #sexual_assualt OR #sexual_abuse) lang:en) until:2022-04-30'\n",
    "query = 'Victim Blaming rape lang:en lang:en'\n",
    "\n",
    "tweet_words = []\n",
    "limit = 4000\n",
    "for tweet in sn.TwitterSearchScraper(query).get_items():\n",
    "    if len(tweet_words) == limit:\n",
    "        break\n",
    "    else:\n",
    "        tweet_words.append([tweet.date, tweet.user.displayname, \n",
    "            tweet.content, tweet.lang, tweet.source])\n",
    "\n",
    "victim_blaming = pd.DataFrame(tweet_words, columns=['Date', 'DisplayName', 'Tweets', 'Language', 'location'])\n",
    "\n"
   ]
  },
  {
   "cell_type": "code",
   "execution_count": 8,
   "metadata": {},
   "outputs": [],
   "source": [
    "# query =  'rapist (#rape OR #assualt OR #abuse OR #rapist OR #sexual_assualt OR #sexual_abuse) lang:en) until:2022-04-30'\n",
    "query = 'Rape Penalty lang:en lang:en'\n",
    "\n",
    "tweet_words = []\n",
    "limit = 4000\n",
    "for tweet in sn.TwitterSearchScraper(query).get_items():\n",
    "    if len(tweet_words) == limit:\n",
    "        break\n",
    "    else:\n",
    "        tweet_words.append([tweet.date, tweet.user.displayname, \n",
    "            tweet.content, tweet.lang, tweet.source])\n",
    "\n",
    "rape_penalty = pd.DataFrame(tweet_words, columns=['Date', 'DisplayName', 'Tweets', 'Language', 'location'])\n",
    "\n"
   ]
  },
  {
   "cell_type": "code",
   "execution_count": 95,
   "metadata": {},
   "outputs": [],
   "source": [
    "rape_culture2_ = rape_culture2.copy()\n",
    "rape_penalty_  = rape_penalty.copy()\n",
    "victim_blaming_ = victim_blaming.copy()\n",
    "self_defence_   = self_defence.copy()\n",
    "call_to_action_ = call_to_action.copy()\n",
    "Say_no_to_rape_ = Say_no_to_rape.copy()"
   ]
  },
  {
   "cell_type": "markdown",
   "metadata": {},
   "source": [
    "---------------------------------------------------------\n",
    "### Data Cleaning"
   ]
  },
  {
   "cell_type": "code",
   "execution_count": 4,
   "metadata": {},
   "outputs": [
    {
     "ename": "KeyError",
     "evalue": "'Tweets'",
     "output_type": "error",
     "traceback": [
      "\u001b[1;31m---------------------------------------------------------------------------\u001b[0m",
      "\u001b[1;31mKeyError\u001b[0m                                  Traceback (most recent call last)",
      "File \u001b[1;32mc:\\Users\\BIOLA\\Desktop\\Data Science Projects\\Learnings\\Twitter Analysis\\twitter_env3.8\\lib\\site-packages\\pandas\\core\\indexes\\base.py:3621\u001b[0m, in \u001b[0;36mIndex.get_loc\u001b[1;34m(self, key, method, tolerance)\u001b[0m\n\u001b[0;32m   3620\u001b[0m \u001b[39mtry\u001b[39;00m:\n\u001b[1;32m-> 3621\u001b[0m     \u001b[39mreturn\u001b[39;00m \u001b[39mself\u001b[39;49m\u001b[39m.\u001b[39;49m_engine\u001b[39m.\u001b[39;49mget_loc(casted_key)\n\u001b[0;32m   3622\u001b[0m \u001b[39mexcept\u001b[39;00m \u001b[39mKeyError\u001b[39;00m \u001b[39mas\u001b[39;00m err:\n",
      "File \u001b[1;32mc:\\Users\\BIOLA\\Desktop\\Data Science Projects\\Learnings\\Twitter Analysis\\twitter_env3.8\\lib\\site-packages\\pandas\\_libs\\index.pyx:136\u001b[0m, in \u001b[0;36mpandas._libs.index.IndexEngine.get_loc\u001b[1;34m()\u001b[0m\n",
      "File \u001b[1;32mc:\\Users\\BIOLA\\Desktop\\Data Science Projects\\Learnings\\Twitter Analysis\\twitter_env3.8\\lib\\site-packages\\pandas\\_libs\\index.pyx:163\u001b[0m, in \u001b[0;36mpandas._libs.index.IndexEngine.get_loc\u001b[1;34m()\u001b[0m\n",
      "File \u001b[1;32mpandas\\_libs\\hashtable_class_helper.pxi:5198\u001b[0m, in \u001b[0;36mpandas._libs.hashtable.PyObjectHashTable.get_item\u001b[1;34m()\u001b[0m\n",
      "File \u001b[1;32mpandas\\_libs\\hashtable_class_helper.pxi:5206\u001b[0m, in \u001b[0;36mpandas._libs.hashtable.PyObjectHashTable.get_item\u001b[1;34m()\u001b[0m\n",
      "\u001b[1;31mKeyError\u001b[0m: 'Tweets'",
      "\nThe above exception was the direct cause of the following exception:\n",
      "\u001b[1;31mKeyError\u001b[0m                                  Traceback (most recent call last)",
      "\u001b[1;32mc:\\Users\\BIOLA\\Desktop\\Data Science Projects\\Learnings\\Twitter Analysis\\Rape Analysis\\rape_analysis.ipynb Cell 13\u001b[0m in \u001b[0;36m<cell line: 11>\u001b[1;34m()\u001b[0m\n\u001b[0;32m      <a href='vscode-notebook-cell:/c%3A/Users/BIOLA/Desktop/Data%20Science%20Projects/Learnings/Twitter%20Analysis/Rape%20Analysis/rape_analysis.ipynb#X14sZmlsZQ%3D%3D?line=7'>8</a>\u001b[0m     txt \u001b[39m=\u001b[39m re\u001b[39m.\u001b[39msub(\u001b[39m'\u001b[39m\u001b[39m!Rape\u001b[39m\u001b[39m'\u001b[39m, \u001b[39m'\u001b[39m\u001b[39mRape\u001b[39m\u001b[39m'\u001b[39m, txt)\n\u001b[0;32m      <a href='vscode-notebook-cell:/c%3A/Users/BIOLA/Desktop/Data%20Science%20Projects/Learnings/Twitter%20Analysis/Rape%20Analysis/rape_analysis.ipynb#X14sZmlsZQ%3D%3D?line=8'>9</a>\u001b[0m     \u001b[39mreturn\u001b[39;00m txt\n\u001b[1;32m---> <a href='vscode-notebook-cell:/c%3A/Users/BIOLA/Desktop/Data%20Science%20Projects/Learnings/Twitter%20Analysis/Rape%20Analysis/rape_analysis.ipynb#X14sZmlsZQ%3D%3D?line=10'>11</a>\u001b[0m rape_culture2_[\u001b[39m'\u001b[39m\u001b[39mclean_tweet\u001b[39m\u001b[39m'\u001b[39m] \u001b[39m=\u001b[39m rape_culture2_[\u001b[39m'\u001b[39;49m\u001b[39mTweets\u001b[39;49m\u001b[39m'\u001b[39;49m]\u001b[39m.\u001b[39mapply(cleaner)\n\u001b[0;32m     <a href='vscode-notebook-cell:/c%3A/Users/BIOLA/Desktop/Data%20Science%20Projects/Learnings/Twitter%20Analysis/Rape%20Analysis/rape_analysis.ipynb#X14sZmlsZQ%3D%3D?line=11'>12</a>\u001b[0m rape_culture2_[\u001b[39m'\u001b[39m\u001b[39mclean_tweet\u001b[39m\u001b[39m'\u001b[39m] \u001b[39m=\u001b[39m rape_culture2_[\u001b[39m'\u001b[39m\u001b[39mclean_tweet\u001b[39m\u001b[39m'\u001b[39m]\u001b[39m.\u001b[39mapply(nfx\u001b[39m.\u001b[39mremove_userhandles, nfx\u001b[39m.\u001b[39mremove_puncts)\n\u001b[0;32m     <a href='vscode-notebook-cell:/c%3A/Users/BIOLA/Desktop/Data%20Science%20Projects/Learnings/Twitter%20Analysis/Rape%20Analysis/rape_analysis.ipynb#X14sZmlsZQ%3D%3D?line=12'>13</a>\u001b[0m rape_culture2_[\u001b[39m'\u001b[39m\u001b[39mclean_tweet\u001b[39m\u001b[39m'\u001b[39m] \u001b[39m=\u001b[39m rape_culture2_[\u001b[39m'\u001b[39m\u001b[39mclean_tweet\u001b[39m\u001b[39m'\u001b[39m]\u001b[39m.\u001b[39mapply(nfx\u001b[39m.\u001b[39mremove_dates, nfx\u001b[39m.\u001b[39mremove_special_characters)\n",
      "File \u001b[1;32mc:\\Users\\BIOLA\\Desktop\\Data Science Projects\\Learnings\\Twitter Analysis\\twitter_env3.8\\lib\\site-packages\\pandas\\core\\frame.py:3505\u001b[0m, in \u001b[0;36mDataFrame.__getitem__\u001b[1;34m(self, key)\u001b[0m\n\u001b[0;32m   3503\u001b[0m \u001b[39mif\u001b[39;00m \u001b[39mself\u001b[39m\u001b[39m.\u001b[39mcolumns\u001b[39m.\u001b[39mnlevels \u001b[39m>\u001b[39m \u001b[39m1\u001b[39m:\n\u001b[0;32m   3504\u001b[0m     \u001b[39mreturn\u001b[39;00m \u001b[39mself\u001b[39m\u001b[39m.\u001b[39m_getitem_multilevel(key)\n\u001b[1;32m-> 3505\u001b[0m indexer \u001b[39m=\u001b[39m \u001b[39mself\u001b[39;49m\u001b[39m.\u001b[39;49mcolumns\u001b[39m.\u001b[39;49mget_loc(key)\n\u001b[0;32m   3506\u001b[0m \u001b[39mif\u001b[39;00m is_integer(indexer):\n\u001b[0;32m   3507\u001b[0m     indexer \u001b[39m=\u001b[39m [indexer]\n",
      "File \u001b[1;32mc:\\Users\\BIOLA\\Desktop\\Data Science Projects\\Learnings\\Twitter Analysis\\twitter_env3.8\\lib\\site-packages\\pandas\\core\\indexes\\base.py:3623\u001b[0m, in \u001b[0;36mIndex.get_loc\u001b[1;34m(self, key, method, tolerance)\u001b[0m\n\u001b[0;32m   3621\u001b[0m     \u001b[39mreturn\u001b[39;00m \u001b[39mself\u001b[39m\u001b[39m.\u001b[39m_engine\u001b[39m.\u001b[39mget_loc(casted_key)\n\u001b[0;32m   3622\u001b[0m \u001b[39mexcept\u001b[39;00m \u001b[39mKeyError\u001b[39;00m \u001b[39mas\u001b[39;00m err:\n\u001b[1;32m-> 3623\u001b[0m     \u001b[39mraise\u001b[39;00m \u001b[39mKeyError\u001b[39;00m(key) \u001b[39mfrom\u001b[39;00m \u001b[39merr\u001b[39;00m\n\u001b[0;32m   3624\u001b[0m \u001b[39mexcept\u001b[39;00m \u001b[39mTypeError\u001b[39;00m:\n\u001b[0;32m   3625\u001b[0m     \u001b[39m# If we have a listlike key, _check_indexing_error will raise\u001b[39;00m\n\u001b[0;32m   3626\u001b[0m     \u001b[39m#  InvalidIndexError. Otherwise we fall through and re-raise\u001b[39;00m\n\u001b[0;32m   3627\u001b[0m     \u001b[39m#  the TypeError.\u001b[39;00m\n\u001b[0;32m   3628\u001b[0m     \u001b[39mself\u001b[39m\u001b[39m.\u001b[39m_check_indexing_error(key)\n",
      "\u001b[1;31mKeyError\u001b[0m: 'Tweets'"
     ]
    }
   ],
   "source": [
    "import re\n",
    "def cleaner(txt):\n",
    "    txt = re.sub('#rape', 'rape', txt)\n",
    "    txt = re.sub('#Rape', 'Rape', txt)\n",
    "    txt = re.sub('#[A-Za-z0-9]+', '', txt)\n",
    "    txt = re.sub('\\\\n', '', txt)\n",
    "    txt = re.sub('https?:\\/\\/\\S+', '', txt)\n",
    "    txt = re.sub('!Rape', 'Rape', txt)\n",
    "    return txt\n",
    "    \n",
    "rape_culture2_['clean_tweet'] = rape_culture2_['Tweets'].apply(cleaner)\n",
    "rape_culture2_['clean_tweet'] = rape_culture2_['clean_tweet'].apply(nfx.remove_userhandles, nfx.remove_puncts)\n",
    "rape_culture2_['clean_tweet'] = rape_culture2_['clean_tweet'].apply(nfx.remove_dates, nfx.remove_special_characters)\n",
    "rape_culture2_.drop(['Language', 'location', 'Tweets'], axis = 1, inplace = True)\n",
    "rape_culture2_.reset_index(drop = True)\n",
    "rape_culture2_['Date'] = datetime.today().strftime('%Y-%m-%d') # Convert date column to Datetime and set it to index\n",
    "rape_culture2_.Date = rape_culture2_.Date.str[:9] # Select the first 9 letters of the strings\n",
    "rape_culture2_.set_index('Date', inplace= True)\n",
    "rape_culture2_['DisplayName'] = rape_culture2_['DisplayName'].apply(nfx.remove_emojis)\n",
    "rape_culture2_.drop_duplicates(subset = 'clean_tweet', keep = 'first', inplace = True)\n",
    "\n",
    "rape_culture2_.shape"
   ]
  },
  {
   "cell_type": "code",
   "execution_count": null,
   "metadata": {},
   "outputs": [
    {
     "data": {
      "text/html": [
       "<div>\n",
       "<style scoped>\n",
       "    .dataframe tbody tr th:only-of-type {\n",
       "        vertical-align: middle;\n",
       "    }\n",
       "\n",
       "    .dataframe tbody tr th {\n",
       "        vertical-align: top;\n",
       "    }\n",
       "\n",
       "    .dataframe thead th {\n",
       "        text-align: right;\n",
       "    }\n",
       "</style>\n",
       "<table border=\"1\" class=\"dataframe\">\n",
       "  <thead>\n",
       "    <tr style=\"text-align: right;\">\n",
       "      <th></th>\n",
       "      <th>DisplayName</th>\n",
       "      <th>clean_tweet</th>\n",
       "    </tr>\n",
       "    <tr>\n",
       "      <th>Date</th>\n",
       "      <th></th>\n",
       "      <th></th>\n",
       "    </tr>\n",
       "  </thead>\n",
       "  <tbody>\n",
       "    <tr>\n",
       "      <th>2022-07-2</th>\n",
       "      <td>jude 🦴hell detective (DOLL)</td>\n",
       "      <td>cw: sa the thing about sexual violence in fant...</td>\n",
       "    </tr>\n",
       "    <tr>\n",
       "      <th>2022-07-2</th>\n",
       "      <td>Rachel (is Awake) Horton</td>\n",
       "      <td>Let’s try to stop the euphemisms for truly hor...</td>\n",
       "    </tr>\n",
       "    <tr>\n",
       "      <th>2022-07-2</th>\n",
       "      <td>Gina Lee  she/her DMs</td>\n",
       "      <td>Pedophilia &amp;amp; rape/incest are HEAVY sins....</td>\n",
       "    </tr>\n",
       "    <tr>\n",
       "      <th>2022-07-2</th>\n",
       "      <td>OnyekaChi</td>\n",
       "      <td>Yes, and the girl will also ...</td>\n",
       "    </tr>\n",
       "    <tr>\n",
       "      <th>2022-07-2</th>\n",
       "      <td>angela55</td>\n",
       "      <td>It's also annoying when you can't file...</td>\n",
       "    </tr>\n",
       "    <tr>\n",
       "      <th>...</th>\n",
       "      <td>...</td>\n",
       "      <td>...</td>\n",
       "    </tr>\n",
       "    <tr>\n",
       "      <th>2022-07-2</th>\n",
       "      <td>I LOVE MILFS</td>\n",
       "      <td>Men who rape women are charged with “att...</td>\n",
       "    </tr>\n",
       "    <tr>\n",
       "      <th>2022-07-2</th>\n",
       "      <td>wardy</td>\n",
       "      <td>18 years ffs, rape of a child should be the ...</td>\n",
       "    </tr>\n",
       "    <tr>\n",
       "      <th>2022-07-2</th>\n",
       "      <td>Cold Dead Fingers</td>\n",
       "      <td>I support the Death Penalty for child rape.</td>\n",
       "    </tr>\n",
       "    <tr>\n",
       "      <th>2022-07-2</th>\n",
       "      <td>Danny Skyfeather</td>\n",
       "      <td>Yeah let’s start with the death penalt...</td>\n",
       "    </tr>\n",
       "    <tr>\n",
       "      <th>2022-07-2</th>\n",
       "      <td>Louie Pickles ™</td>\n",
       "      <td>Look at some of the proposals to make pena...</td>\n",
       "    </tr>\n",
       "  </tbody>\n",
       "</table>\n",
       "<p>3833 rows × 2 columns</p>\n",
       "</div>"
      ],
      "text/plain": [
       "                           DisplayName  \\\n",
       "Date                                     \n",
       "2022-07-2  jude 🦴hell detective (DOLL)   \n",
       "2022-07-2     Rachel (is Awake) Horton   \n",
       "2022-07-2        Gina Lee  she/her DMs   \n",
       "2022-07-2                    OnyekaChi   \n",
       "2022-07-2                     angela55   \n",
       "...                                ...   \n",
       "2022-07-2                I LOVE MILFS    \n",
       "2022-07-2                        wardy   \n",
       "2022-07-2            Cold Dead Fingers   \n",
       "2022-07-2             Danny Skyfeather   \n",
       "2022-07-2              Louie Pickles ™   \n",
       "\n",
       "                                                 clean_tweet  \n",
       "Date                                                          \n",
       "2022-07-2  cw: sa the thing about sexual violence in fant...  \n",
       "2022-07-2  Let’s try to stop the euphemisms for truly hor...  \n",
       "2022-07-2    Pedophilia &amp; rape/incest are HEAVY sins....  \n",
       "2022-07-2                    Yes, and the girl will also ...  \n",
       "2022-07-2          It's also annoying when you can't file...  \n",
       "...                                                      ...  \n",
       "2022-07-2        Men who rape women are charged with “att...  \n",
       "2022-07-2    18 years ffs, rape of a child should be the ...  \n",
       "2022-07-2        I support the Death Penalty for child rape.  \n",
       "2022-07-2          Yeah let’s start with the death penalt...  \n",
       "2022-07-2      Look at some of the proposals to make pena...  \n",
       "\n",
       "[3833 rows x 2 columns]"
      ]
     },
     "execution_count": 23,
     "metadata": {},
     "output_type": "execute_result"
    }
   ],
   "source": [
    "import re\n",
    "def cleaner(txt):\n",
    "    txt = re.sub('#rape', 'rape', txt)\n",
    "    txt = re.sub('#Rape', 'Rape', txt)\n",
    "    txt = re.sub('#[A-Za-z0-9]+', '', txt)\n",
    "    txt = re.sub('\\\\n', '', txt)\n",
    "    txt = re.sub('https?:\\/\\/\\S+', '', txt)\n",
    "    txt = re.sub('!Rape', 'Rape', txt)\n",
    "    return txt\n",
    "    \n",
    "rape_penalty_['clean_tweet'] = rape_penalty_['Tweets'].apply(cleaner)\n",
    "rape_penalty_['clean_tweet'] = rape_penalty_['clean_tweet'].apply(nfx.remove_userhandles, nfx.remove_puncts)\n",
    "rape_penalty_['clean_tweet'] = rape_penalty_['clean_tweet'].apply(nfx.remove_dates, nfx.remove_special_characters)\n",
    "rape_penalty_['clean_tweet'] = rape_penalty_['clean_tweet'].apply(nfx.remove_emojis)\n",
    "rape_penalty_.drop(['Language', 'location', 'Tweets'], axis = 1, inplace = True)\n",
    "rape_penalty_.reset_index(drop = True)\n",
    "rape_penalty_['Date'] = datetime.today().strftime('%Y-%m-%d') # Convert date column to Datetime and set it to index\n",
    "rape_penalty_.Date = rape_penalty_.Date.str[:9] # Select the first 9 letters of the strings\n",
    "rape_penalty_.set_index('Date', inplace= True)\n",
    "rape_penalty_['DisplayName'] = rape_penalty_['DisplayName'].apply(nfx.remove_emojis)\n",
    "rape_penalty_.drop_duplicates(subset = 'clean_tweet', keep = 'first', inplace = True)\n",
    "\n",
    "rape_penalty_"
   ]
  },
  {
   "cell_type": "code",
   "execution_count": null,
   "metadata": {},
   "outputs": [
    {
     "data": {
      "text/html": [
       "<div>\n",
       "<style scoped>\n",
       "    .dataframe tbody tr th:only-of-type {\n",
       "        vertical-align: middle;\n",
       "    }\n",
       "\n",
       "    .dataframe tbody tr th {\n",
       "        vertical-align: top;\n",
       "    }\n",
       "\n",
       "    .dataframe thead th {\n",
       "        text-align: right;\n",
       "    }\n",
       "</style>\n",
       "<table border=\"1\" class=\"dataframe\">\n",
       "  <thead>\n",
       "    <tr style=\"text-align: right;\">\n",
       "      <th></th>\n",
       "      <th>DisplayName</th>\n",
       "      <th>clean_tweet</th>\n",
       "    </tr>\n",
       "    <tr>\n",
       "      <th>Date</th>\n",
       "      <th></th>\n",
       "      <th></th>\n",
       "    </tr>\n",
       "  </thead>\n",
       "  <tbody>\n",
       "    <tr>\n",
       "      <th>2022-07-2</th>\n",
       "      <td>Krunken Duncan</td>\n",
       "      <td>Saved a potential rape victim and stop a...</td>\n",
       "    </tr>\n",
       "    <tr>\n",
       "      <th>2022-07-2</th>\n",
       "      <td>Jay Robertson</td>\n",
       "      <td>The GOP's \"blame the Capitol Police\" tactics...</td>\n",
       "    </tr>\n",
       "    <tr>\n",
       "      <th>2022-07-2</th>\n",
       "      <td>Thando Ndlovu</td>\n",
       "      <td>That doesn't work in Zim!! This is crazy vic...</td>\n",
       "    </tr>\n",
       "    <tr>\n",
       "      <th>2022-07-2</th>\n",
       "      <td>lawrence</td>\n",
       "      <td>That's like blaming the rape victim for no...</td>\n",
       "    </tr>\n",
       "    <tr>\n",
       "      <th>2022-07-2</th>\n",
       "      <td>DreamZim</td>\n",
       "      <td>Its sad when it's coming from a person w...</td>\n",
       "    </tr>\n",
       "    <tr>\n",
       "      <th>...</th>\n",
       "      <td>...</td>\n",
       "      <td>...</td>\n",
       "    </tr>\n",
       "    <tr>\n",
       "      <th>2022-07-2</th>\n",
       "      <td>Bex J</td>\n",
       "      <td>Quite, question should be how tf did no-one ...</td>\n",
       "    </tr>\n",
       "    <tr>\n",
       "      <th>2022-07-2</th>\n",
       "      <td>King James</td>\n",
       "      <td>They should be apologizing to you for ...</td>\n",
       "    </tr>\n",
       "    <tr>\n",
       "      <th>2022-07-2</th>\n",
       "      <td>infinitelinesof7</td>\n",
       "      <td>Rape culture/ victim blaming</td>\n",
       "    </tr>\n",
       "    <tr>\n",
       "      <th>2022-07-2</th>\n",
       "      <td>HasNip</td>\n",
       "      <td>PepeLa D is too busy victim blaming a rape...</td>\n",
       "    </tr>\n",
       "    <tr>\n",
       "      <th>2022-07-2</th>\n",
       "      <td>stoplying</td>\n",
       "      <td>another sad part is that everyone is forge...</td>\n",
       "    </tr>\n",
       "  </tbody>\n",
       "</table>\n",
       "<p>3932 rows × 2 columns</p>\n",
       "</div>"
      ],
      "text/plain": [
       "                DisplayName                                        clean_tweet\n",
       "Date                                                                          \n",
       "2022-07-2    Krunken Duncan        Saved a potential rape victim and stop a...\n",
       "2022-07-2    Jay Robertson     The GOP's \"blame the Capitol Police\" tactics...\n",
       "2022-07-2     Thando Ndlovu    That doesn't work in Zim!! This is crazy vic...\n",
       "2022-07-2          lawrence      That's like blaming the rape victim for no...\n",
       "2022-07-2          DreamZim        Its sad when it's coming from a person w...\n",
       "...                     ...                                                ...\n",
       "2022-07-2             Bex J    Quite, question should be how tf did no-one ...\n",
       "2022-07-2        King James          They should be apologizing to you for ...\n",
       "2022-07-2  infinitelinesof7                      Rape culture/ victim blaming \n",
       "2022-07-2            HasNip      PepeLa D is too busy victim blaming a rape...\n",
       "2022-07-2         stoplying      another sad part is that everyone is forge...\n",
       "\n",
       "[3932 rows x 2 columns]"
      ]
     },
     "execution_count": 24,
     "metadata": {},
     "output_type": "execute_result"
    }
   ],
   "source": [
    "import re\n",
    "def cleaner(txt):\n",
    "    txt = re.sub('#rape', 'rape', txt)\n",
    "    txt = re.sub('#Rape', 'Rape', txt)\n",
    "    txt = re.sub('#[A-Za-z0-9]+', '', txt)\n",
    "    txt = re.sub('\\\\n', '', txt)\n",
    "    txt = re.sub('https?:\\/\\/\\S+', '', txt)\n",
    "    txt = re.sub('!Rape', 'Rape', txt)\n",
    "    return txt\n",
    "    \n",
    "victim_blaming_['clean_tweet'] = victim_blaming_['Tweets'].apply(cleaner)\n",
    "victim_blaming_['clean_tweet'] = victim_blaming_['clean_tweet'].apply(nfx.remove_userhandles, nfx.remove_puncts)\n",
    "victim_blaming_['clean_tweet'] = victim_blaming_['clean_tweet'].apply(nfx.remove_dates, nfx.remove_special_characters)\n",
    "victim_blaming_['clean_tweet'] = victim_blaming_['clean_tweet'].apply(nfx.remove_emojis)\n",
    "victim_blaming_.drop(['Language', 'location', 'Tweets'], axis = 1, inplace = True)\n",
    "victim_blaming_.reset_index(drop = True)\n",
    "victim_blaming_['Date'] = datetime.today().strftime('%Y-%m-%d') # Convert date column to Datetime and set it to index\n",
    "victim_blaming_.Date = victim_blaming_.Date.str[:9] # Select the first 9 letters of the strings\n",
    "victim_blaming_.set_index('Date', inplace= True)\n",
    "victim_blaming_['DisplayName'] = victim_blaming_['DisplayName'].apply(nfx.remove_emojis)\n",
    "victim_blaming_.drop_duplicates(subset = 'clean_tweet', keep = 'first', inplace = True)\n",
    "\n",
    "victim_blaming_"
   ]
  },
  {
   "cell_type": "code",
   "execution_count": null,
   "metadata": {},
   "outputs": [
    {
     "data": {
      "text/plain": [
       "(62, 2)"
      ]
     },
     "execution_count": 25,
     "metadata": {},
     "output_type": "execute_result"
    }
   ],
   "source": [
    "import re\n",
    "def cleaner(txt):\n",
    "    txt = re.sub('#rape', 'rape', txt)\n",
    "    txt = re.sub('#Rape', 'Rape', txt)\n",
    "    txt = re.sub('#[A-Za-z0-9]+', '', txt)\n",
    "    txt = re.sub('\\\\n', '', txt)\n",
    "    txt = re.sub('https?:\\/\\/\\S+', '', txt)\n",
    "    txt = re.sub('!Rape', 'Rape', txt)\n",
    "    return txt\n",
    "    \n",
    "self_defence_['clean_tweet'] = self_defence_['Tweets'].apply(cleaner)\n",
    "self_defence_['clean_tweet'] = self_defence_['clean_tweet'].apply(nfx.remove_userhandles, nfx.remove_puncts)\n",
    "self_defence_['clean_tweet'] = self_defence_['clean_tweet'].apply(nfx.remove_dates, nfx.remove_special_characters)\n",
    "self_defence_.drop(['Language', 'location', 'Tweets'], axis = 1, inplace = True)\n",
    "self_defence_.reset_index(drop = True)\n",
    "self_defence_['Date'] = datetime.today().strftime('%Y-%m-%d') # Convert date column to Datetime and set it to index\n",
    "self_defence_.Date = self_defence_.Date.str[:9] # Select the first 9 letters of the strings\n",
    "self_defence_.set_index('Date', inplace= True)\n",
    "self_defence_['DisplayName'] = self_defence_['DisplayName'].apply(nfx.remove_emojis)\n",
    "self_defence_.drop_duplicates(subset = 'clean_tweet', keep = 'first', inplace = True)\n",
    "\n",
    "self_defence_.shape"
   ]
  },
  {
   "cell_type": "code",
   "execution_count": 5,
   "metadata": {},
   "outputs": [
    {
     "ename": "KeyError",
     "evalue": "'Tweets'",
     "output_type": "error",
     "traceback": [
      "\u001b[1;31m---------------------------------------------------------------------------\u001b[0m",
      "\u001b[1;31mKeyError\u001b[0m                                  Traceback (most recent call last)",
      "File \u001b[1;32mc:\\Users\\BIOLA\\Desktop\\Data Science Projects\\Learnings\\Twitter Analysis\\twitter_env3.8\\lib\\site-packages\\pandas\\core\\indexes\\base.py:3621\u001b[0m, in \u001b[0;36mIndex.get_loc\u001b[1;34m(self, key, method, tolerance)\u001b[0m\n\u001b[0;32m   3620\u001b[0m \u001b[39mtry\u001b[39;00m:\n\u001b[1;32m-> 3621\u001b[0m     \u001b[39mreturn\u001b[39;00m \u001b[39mself\u001b[39;49m\u001b[39m.\u001b[39;49m_engine\u001b[39m.\u001b[39;49mget_loc(casted_key)\n\u001b[0;32m   3622\u001b[0m \u001b[39mexcept\u001b[39;00m \u001b[39mKeyError\u001b[39;00m \u001b[39mas\u001b[39;00m err:\n",
      "File \u001b[1;32mc:\\Users\\BIOLA\\Desktop\\Data Science Projects\\Learnings\\Twitter Analysis\\twitter_env3.8\\lib\\site-packages\\pandas\\_libs\\index.pyx:136\u001b[0m, in \u001b[0;36mpandas._libs.index.IndexEngine.get_loc\u001b[1;34m()\u001b[0m\n",
      "File \u001b[1;32mc:\\Users\\BIOLA\\Desktop\\Data Science Projects\\Learnings\\Twitter Analysis\\twitter_env3.8\\lib\\site-packages\\pandas\\_libs\\index.pyx:163\u001b[0m, in \u001b[0;36mpandas._libs.index.IndexEngine.get_loc\u001b[1;34m()\u001b[0m\n",
      "File \u001b[1;32mpandas\\_libs\\hashtable_class_helper.pxi:5198\u001b[0m, in \u001b[0;36mpandas._libs.hashtable.PyObjectHashTable.get_item\u001b[1;34m()\u001b[0m\n",
      "File \u001b[1;32mpandas\\_libs\\hashtable_class_helper.pxi:5206\u001b[0m, in \u001b[0;36mpandas._libs.hashtable.PyObjectHashTable.get_item\u001b[1;34m()\u001b[0m\n",
      "\u001b[1;31mKeyError\u001b[0m: 'Tweets'",
      "\nThe above exception was the direct cause of the following exception:\n",
      "\u001b[1;31mKeyError\u001b[0m                                  Traceback (most recent call last)",
      "\u001b[1;32mc:\\Users\\BIOLA\\Desktop\\Data Science Projects\\Learnings\\Twitter Analysis\\Rape Analysis\\rape_analysis.ipynb Cell 17\u001b[0m in \u001b[0;36m<cell line: 11>\u001b[1;34m()\u001b[0m\n\u001b[0;32m      <a href='vscode-notebook-cell:/c%3A/Users/BIOLA/Desktop/Data%20Science%20Projects/Learnings/Twitter%20Analysis/Rape%20Analysis/rape_analysis.ipynb#X21sZmlsZQ%3D%3D?line=7'>8</a>\u001b[0m     txt \u001b[39m=\u001b[39m re\u001b[39m.\u001b[39msub(\u001b[39m'\u001b[39m\u001b[39m!Rape\u001b[39m\u001b[39m'\u001b[39m, \u001b[39m'\u001b[39m\u001b[39mRape\u001b[39m\u001b[39m'\u001b[39m, txt)\n\u001b[0;32m      <a href='vscode-notebook-cell:/c%3A/Users/BIOLA/Desktop/Data%20Science%20Projects/Learnings/Twitter%20Analysis/Rape%20Analysis/rape_analysis.ipynb#X21sZmlsZQ%3D%3D?line=8'>9</a>\u001b[0m     \u001b[39mreturn\u001b[39;00m txt\n\u001b[1;32m---> <a href='vscode-notebook-cell:/c%3A/Users/BIOLA/Desktop/Data%20Science%20Projects/Learnings/Twitter%20Analysis/Rape%20Analysis/rape_analysis.ipynb#X21sZmlsZQ%3D%3D?line=10'>11</a>\u001b[0m call_to_action_[\u001b[39m'\u001b[39m\u001b[39mclean_tweet\u001b[39m\u001b[39m'\u001b[39m] \u001b[39m=\u001b[39m call_to_action_[\u001b[39m'\u001b[39;49m\u001b[39mTweets\u001b[39;49m\u001b[39m'\u001b[39;49m]\u001b[39m.\u001b[39mapply(cleaner)\n\u001b[0;32m     <a href='vscode-notebook-cell:/c%3A/Users/BIOLA/Desktop/Data%20Science%20Projects/Learnings/Twitter%20Analysis/Rape%20Analysis/rape_analysis.ipynb#X21sZmlsZQ%3D%3D?line=11'>12</a>\u001b[0m call_to_action_[\u001b[39m'\u001b[39m\u001b[39mclean_tweet\u001b[39m\u001b[39m'\u001b[39m] \u001b[39m=\u001b[39m call_to_action_[\u001b[39m'\u001b[39m\u001b[39mclean_tweet\u001b[39m\u001b[39m'\u001b[39m]\u001b[39m.\u001b[39mapply(nfx\u001b[39m.\u001b[39mremove_userhandles, nfx\u001b[39m.\u001b[39mremove_puncts)\n\u001b[0;32m     <a href='vscode-notebook-cell:/c%3A/Users/BIOLA/Desktop/Data%20Science%20Projects/Learnings/Twitter%20Analysis/Rape%20Analysis/rape_analysis.ipynb#X21sZmlsZQ%3D%3D?line=12'>13</a>\u001b[0m call_to_action_[\u001b[39m'\u001b[39m\u001b[39mclean_tweet\u001b[39m\u001b[39m'\u001b[39m] \u001b[39m=\u001b[39m call_to_action_[\u001b[39m'\u001b[39m\u001b[39mclean_tweet\u001b[39m\u001b[39m'\u001b[39m]\u001b[39m.\u001b[39mapply(nfx\u001b[39m.\u001b[39mremove_dates, nfx\u001b[39m.\u001b[39mremove_special_characters)\n",
      "File \u001b[1;32mc:\\Users\\BIOLA\\Desktop\\Data Science Projects\\Learnings\\Twitter Analysis\\twitter_env3.8\\lib\\site-packages\\pandas\\core\\frame.py:3505\u001b[0m, in \u001b[0;36mDataFrame.__getitem__\u001b[1;34m(self, key)\u001b[0m\n\u001b[0;32m   3503\u001b[0m \u001b[39mif\u001b[39;00m \u001b[39mself\u001b[39m\u001b[39m.\u001b[39mcolumns\u001b[39m.\u001b[39mnlevels \u001b[39m>\u001b[39m \u001b[39m1\u001b[39m:\n\u001b[0;32m   3504\u001b[0m     \u001b[39mreturn\u001b[39;00m \u001b[39mself\u001b[39m\u001b[39m.\u001b[39m_getitem_multilevel(key)\n\u001b[1;32m-> 3505\u001b[0m indexer \u001b[39m=\u001b[39m \u001b[39mself\u001b[39;49m\u001b[39m.\u001b[39;49mcolumns\u001b[39m.\u001b[39;49mget_loc(key)\n\u001b[0;32m   3506\u001b[0m \u001b[39mif\u001b[39;00m is_integer(indexer):\n\u001b[0;32m   3507\u001b[0m     indexer \u001b[39m=\u001b[39m [indexer]\n",
      "File \u001b[1;32mc:\\Users\\BIOLA\\Desktop\\Data Science Projects\\Learnings\\Twitter Analysis\\twitter_env3.8\\lib\\site-packages\\pandas\\core\\indexes\\base.py:3623\u001b[0m, in \u001b[0;36mIndex.get_loc\u001b[1;34m(self, key, method, tolerance)\u001b[0m\n\u001b[0;32m   3621\u001b[0m     \u001b[39mreturn\u001b[39;00m \u001b[39mself\u001b[39m\u001b[39m.\u001b[39m_engine\u001b[39m.\u001b[39mget_loc(casted_key)\n\u001b[0;32m   3622\u001b[0m \u001b[39mexcept\u001b[39;00m \u001b[39mKeyError\u001b[39;00m \u001b[39mas\u001b[39;00m err:\n\u001b[1;32m-> 3623\u001b[0m     \u001b[39mraise\u001b[39;00m \u001b[39mKeyError\u001b[39;00m(key) \u001b[39mfrom\u001b[39;00m \u001b[39merr\u001b[39;00m\n\u001b[0;32m   3624\u001b[0m \u001b[39mexcept\u001b[39;00m \u001b[39mTypeError\u001b[39;00m:\n\u001b[0;32m   3625\u001b[0m     \u001b[39m# If we have a listlike key, _check_indexing_error will raise\u001b[39;00m\n\u001b[0;32m   3626\u001b[0m     \u001b[39m#  InvalidIndexError. Otherwise we fall through and re-raise\u001b[39;00m\n\u001b[0;32m   3627\u001b[0m     \u001b[39m#  the TypeError.\u001b[39;00m\n\u001b[0;32m   3628\u001b[0m     \u001b[39mself\u001b[39m\u001b[39m.\u001b[39m_check_indexing_error(key)\n",
      "\u001b[1;31mKeyError\u001b[0m: 'Tweets'"
     ]
    }
   ],
   "source": [
    "import re\n",
    "def cleaner(txt):\n",
    "    txt = re.sub('#rape', 'rape', txt)\n",
    "    txt = re.sub('#Rape', 'Rape', txt)\n",
    "    txt = re.sub('#[A-Za-z0-9]+', '', txt)\n",
    "    txt = re.sub('\\\\n', '', txt)\n",
    "    txt = re.sub('https?:\\/\\/\\S+', '', txt)\n",
    "    txt = re.sub('!Rape', 'Rape', txt)\n",
    "    return txt\n",
    "    \n",
    "call_to_action_['clean_tweet'] = call_to_action_['Tweets'].apply(cleaner)\n",
    "call_to_action_['clean_tweet'] = call_to_action_['clean_tweet'].apply(nfx.remove_userhandles, nfx.remove_puncts)\n",
    "call_to_action_['clean_tweet'] = call_to_action_['clean_tweet'].apply(nfx.remove_dates, nfx.remove_special_characters)\n",
    "call_to_action_.drop(['Language', 'location', 'Tweets'], axis = 1, inplace = True)\n",
    "call_to_action_.reset_index(drop = True)\n",
    "call_to_action_['Date'] = datetime.today().strftime('%Y-%m-%d') # Convert date column to Datetime and set it to index\n",
    "call_to_action_.Date = call_to_action_.Date.str[:9] # Select the first 9 letters of the strings\n",
    "call_to_action_.set_index('Date', inplace= True)\n",
    "call_to_action_['DisplayName'] = call_to_action_['DisplayName'].apply(nfx.remove_emojis)\n",
    "call_to_action_.drop_duplicates(subset = 'clean_tweet', keep = 'first', inplace = True)\n",
    "\n",
    "call_to_action_.shape"
   ]
  },
  {
   "cell_type": "code",
   "execution_count": 105,
   "metadata": {},
   "outputs": [
    {
     "data": {
      "text/plain": [
       "(3811, 2)"
      ]
     },
     "execution_count": 105,
     "metadata": {},
     "output_type": "execute_result"
    }
   ],
   "source": [
    "\n",
    "import re\n",
    "def cleaner(txt):\n",
    "    txt = re.sub('#rape', 'rape', txt)\n",
    "    txt = re.sub('#Rape', 'Rape', txt)\n",
    "    txt = re.sub('#[A-Za-z0-9]+', '', txt)\n",
    "    txt = re.sub('\\\\n', '', txt)\n",
    "    txt = re.sub('https?:\\/\\/\\S+', '', txt)\n",
    "    txt = re.sub('!Rape', 'Rape', txt)\n",
    "    return txt\n",
    "    \n",
    "Say_no_to_rape_['clean_tweet'] = Say_no_to_rape_['Tweets'].apply(cleaner)\n",
    "Say_no_to_rape_['clean_tweet'] = Say_no_to_rape_['clean_tweet'].apply(nfx.remove_userhandles, nfx.remove_puncts)\n",
    "Say_no_to_rape_['clean_tweet'] = Say_no_to_rape_['clean_tweet'].apply(nfx.remove_dates, nfx.remove_special_characters)\n",
    "Say_no_to_rape_.drop(['Language', 'location', 'Tweets'], axis = 1, inplace = True)\n",
    "Say_no_to_rape_.reset_index(drop = True)\n",
    "Say_no_to_rape_['Date'] = datetime.today().strftime('%Y-%m-%d') # Convert date column to Datetime and set it to index\n",
    "Say_no_to_rape_.Date = Say_no_to_rape_.Date.str[:9] # Select the first 9 letters of the strings\n",
    "Say_no_to_rape_.set_index('Date', inplace= True)\n",
    "Say_no_to_rape_['DisplayName'] = Say_no_to_rape_['DisplayName'].apply(nfx.remove_emojis)\n",
    "Say_no_to_rape_.drop_duplicates(subset = 'clean_tweet', keep = 'first', inplace = True)\n",
    "\n",
    "Say_no_to_rape_.shape"
   ]
  },
  {
   "cell_type": "markdown",
   "metadata": {},
   "source": [
    "-------------------------------------------------------------------------\n",
    "### Building Sentiment"
   ]
  },
  {
   "cell_type": "code",
   "execution_count": 96,
   "metadata": {},
   "outputs": [],
   "source": [
    "from textblob import TextBlob\n",
    "# def Get_Sentiment(text):\n",
    "#     blob = TextBlob(text)\n",
    "#     polarity = blob.sentiment.polarity\n",
    "#     subjectivity = blob.sentiment.subjectivity\n",
    "#     if polarity >0:\n",
    "#         label = 'Positive'\n",
    "#     elif polarity <0:\n",
    "#         label = 'Negative'\n",
    "#     else:\n",
    "#         label = 'Neutral'\n",
    "#     result = {'Polarity': polarity, 'Subjectivity': subjectivity, 'Sentiment': label}\n",
    "#     return result\n",
    "\n",
    "\n",
    "    # Create Sentiment Function\n",
    "def get_subjectivity(text):\n",
    "    return TextBlob(text).sentiment.subjectivity\n",
    "def get_polarity(text):\n",
    "    return TextBlob(text).sentiment.polarity\n",
    "\n",
    "\n",
    "# Create a function to store the sentiment output\n",
    "\n",
    "def sentiment_score(score):\n",
    "    if score < 0.0: #..................................... items that falls below 0.4\n",
    "        return 'Negetive'\n",
    "    elif score == 0.0: #.................. items that are between 0.4 and 0.55\n",
    "        return 'Neutral'\n",
    "    else:\n",
    "        return 'Positive' # ............................... items that falls above 0.55"
   ]
  },
  {
   "cell_type": "code",
   "execution_count": 97,
   "metadata": {},
   "outputs": [],
   "source": [
    "# Create columns for each subject and each dataframes\n",
    "rape_culture2_['Subjectivity'] = rape_culture2_['clean_tweet'].apply(get_subjectivity)\n",
    "rape_culture2_['Polarity'] = rape_culture2_['clean_tweet'].apply(get_polarity)\n",
    "\n",
    "rape_penalty_['Subjectivity'] = rape_penalty_['clean_tweet'].apply(get_subjectivity)\n",
    "rape_penalty_['Polarity'] = rape_penalty_['clean_tweet'].apply(get_polarity)\n",
    "\n",
    "victim_blaming_['Subjectivity'] = victim_blaming_['clean_tweet'].apply(get_subjectivity)\n",
    "victim_blaming_['Polarity'] = victim_blaming_['clean_tweet'].apply(get_polarity)\n",
    "\n",
    "self_defence_['Subjectivity'] = self_defence_['clean_tweet'].apply(get_subjectivity)\n",
    "self_defence_['Polarity'] = self_defence_['clean_tweet'].apply(get_polarity)\n",
    "\n",
    "call_to_action_['Subjectivity'] = call_to_action_['clean_tweet'].apply(get_subjectivity)\n",
    "call_to_action_['Polarity'] = call_to_action_['clean_tweet'].apply(get_polarity)\n",
    "\n",
    "\n",
    "Say_no_to_rape_['Subjectivity'] = Say_no_to_rape_['clean_tweet'].apply(get_subjectivity)\n",
    "Say_no_to_rape_['Polarity'] = Say_no_to_rape_['clean_tweet'].apply(get_polarity)"
   ]
  },
  {
   "cell_type": "code",
   "execution_count": 53,
   "metadata": {},
   "outputs": [],
   "source": [
    "# Getting the sentiment degree cannot work on a duplicated index. We reset index \n",
    "rape_culture2_.reset_index(inplace= True)\n",
    "rape_penalty_.reset_index(inplace= True)\n",
    "victim_blaming_.reset_index(inplace= True)\n",
    "self_defence_.reset_index(inplace= True)\n",
    "call_to_action_.reset_index(inplace= True)\n",
    "Say_no_to_rape_.reset_index(inplace= True)"
   ]
  },
  {
   "cell_type": "code",
   "execution_count": 98,
   "metadata": {},
   "outputs": [],
   "source": [
    "# Create a column to store the sentiment degree in all data frames\n",
    "rape_culture2_['Sentiments'] = rape_culture2_['Polarity'].apply(sentiment_score)\n",
    "rape_penalty_['Sentiments'] = rape_penalty_['Polarity'].apply(sentiment_score)\n",
    "victim_blaming_['Sentiments'] = victim_blaming_['Polarity'].apply(sentiment_score)\n",
    "self_defence_['Sentiments'] = self_defence_['Polarity'].apply(sentiment_score)\n",
    "call_to_action_['Sentiments'] = call_to_action_['Polarity'].apply(sentiment_score)\n",
    "Say_no_to_rape_['Sentiments'] = Say_no_to_rape_['Polarity'].apply(sentiment_score)"
   ]
  },
  {
   "cell_type": "code",
   "execution_count": 106,
   "metadata": {},
   "outputs": [],
   "source": [
    "# Save datasets to CSV\n",
    "rape_culture2_.to_csv('Rape Culture.csv')\n",
    "rape_penalty_.to_csv('Rape Penalty.csv')\n",
    "victim_blaming_.to_csv('Victim Blaming.csv')\n",
    "self_defence_.to_csv('Self Defence.csv')\n",
    "call_to_action_.to_csv('Call to Action.csv')\n",
    "Say_no_to_rape_.to_csv('Say No To Rape.csv')"
   ]
  },
  {
   "cell_type": "markdown",
   "metadata": {},
   "source": [
    "Display all datasets"
   ]
  },
  {
   "cell_type": "code",
   "execution_count": 108,
   "metadata": {},
   "outputs": [
    {
     "data": {
      "text/html": [
       "<style type=\"text/css\">\n",
       "</style>\n",
       "<table id=\"T_25a84\">\n",
       "  <caption>RAPE CULTURE</caption>\n",
       "  <thead>\n",
       "    <tr>\n",
       "      <th class=\"blank level0\" >&nbsp;</th>\n",
       "      <th id=\"T_25a84_level0_col0\" class=\"col_heading level0 col0\" >Date</th>\n",
       "      <th id=\"T_25a84_level0_col1\" class=\"col_heading level0 col1\" >DisplayName</th>\n",
       "      <th id=\"T_25a84_level0_col2\" class=\"col_heading level0 col2\" >clean_tweet</th>\n",
       "      <th id=\"T_25a84_level0_col3\" class=\"col_heading level0 col3\" >Subjectivity</th>\n",
       "      <th id=\"T_25a84_level0_col4\" class=\"col_heading level0 col4\" >Polarity</th>\n",
       "      <th id=\"T_25a84_level0_col5\" class=\"col_heading level0 col5\" >Sentiments</th>\n",
       "    </tr>\n",
       "  </thead>\n",
       "  <tbody>\n",
       "    <tr>\n",
       "      <th id=\"T_25a84_level0_row0\" class=\"row_heading level0 row0\" >0</th>\n",
       "      <td id=\"T_25a84_row0_col0\" class=\"data row0 col0\" >2022-07-2</td>\n",
       "      <td id=\"T_25a84_row0_col1\" class=\"data row0 col1\" >Benjamin Ady</td>\n",
       "      <td id=\"T_25a84_row0_col2\" class=\"data row0 col2\" >It's been 9 days since                 published/promoted a talk by unrepentant sexual predator Ravi Zacharias from SBC 18. They continue to refuse to take it down. RapeCulture </td>\n",
       "      <td id=\"T_25a84_row0_col3\" class=\"data row0 col3\" >0.561111</td>\n",
       "      <td id=\"T_25a84_row0_col4\" class=\"data row0 col4\" >0.172222</td>\n",
       "      <td id=\"T_25a84_row0_col5\" class=\"data row0 col5\" >Positive</td>\n",
       "    </tr>\n",
       "    <tr>\n",
       "      <th id=\"T_25a84_level0_row1\" class=\"row_heading level0 row1\" >1</th>\n",
       "      <td id=\"T_25a84_row1_col0\" class=\"data row1 col0\" >2022-07-2</td>\n",
       "      <td id=\"T_25a84_row1_col1\" class=\"data row1 col1\" >ayussy</td>\n",
       "      <td id=\"T_25a84_row1_col2\" class=\"data row1 col2\" >            my brother in christ as times move forward we need to get rid of toxic and bullshit cultures. in india rape culture is a thing, pretty normal in rural areas. the backbone IS sexism. would you like to brush that off too? it all starts when you’re young</td>\n",
       "      <td id=\"T_25a84_row1_col3\" class=\"data row1 col3\" >0.512500</td>\n",
       "      <td id=\"T_25a84_row1_col4\" class=\"data row1 col4\" >0.125000</td>\n",
       "      <td id=\"T_25a84_row1_col5\" class=\"data row1 col5\" >Positive</td>\n",
       "    </tr>\n",
       "    <tr>\n",
       "      <th id=\"T_25a84_level0_row2\" class=\"row_heading level0 row2\" >2</th>\n",
       "      <td id=\"T_25a84_row2_col0\" class=\"data row2 col0\" >2022-07-2</td>\n",
       "      <td id=\"T_25a84_row2_col1\" class=\"data row2 col1\" >MyVintageHockey</td>\n",
       "      <td id=\"T_25a84_row2_col2\" class=\"data row2 col2\" >Hockey culture has been promoting rape culture by hiding so many sexual assault situations throughout its history, it is time for change         </td>\n",
       "      <td id=\"T_25a84_row2_col3\" class=\"data row2 col3\" >0.666667</td>\n",
       "      <td id=\"T_25a84_row2_col4\" class=\"data row2 col4\" >0.500000</td>\n",
       "      <td id=\"T_25a84_row2_col5\" class=\"data row2 col5\" >Positive</td>\n",
       "    </tr>\n",
       "    <tr>\n",
       "      <th id=\"T_25a84_level0_row3\" class=\"row_heading level0 row3\" >3</th>\n",
       "      <td id=\"T_25a84_row3_col0\" class=\"data row3 col0\" >2022-07-2</td>\n",
       "      <td id=\"T_25a84_row3_col1\" class=\"data row3 col1\" > BlackedHatGuy </td>\n",
       "      <td id=\"T_25a84_row3_col2\" class=\"data row3 col2\" >    For White Women, protecting White supremacy was more a priority than standing for women's rights. So while they bemoaned not having certain rights, they remained complicit in silencing Black Women because to call out rape culture would damage their marrying into wealth prospects</td>\n",
       "      <td id=\"T_25a84_row3_col3\" class=\"data row3 col3\" >0.300952</td>\n",
       "      <td id=\"T_25a84_row3_col4\" class=\"data row3 col4\" >0.109524</td>\n",
       "      <td id=\"T_25a84_row3_col5\" class=\"data row3 col5\" >Positive</td>\n",
       "    </tr>\n",
       "    <tr>\n",
       "      <th id=\"T_25a84_level0_row4\" class=\"row_heading level0 row4\" >4</th>\n",
       "      <td id=\"T_25a84_row4_col0\" class=\"data row4 col0\" >2022-07-2</td>\n",
       "      <td id=\"T_25a84_row4_col1\" class=\"data row4 col1\" >Truth seeker</td>\n",
       "      <td id=\"T_25a84_row4_col2\" class=\"data row4 col2\" >  Unfortunately this cancer did spread to regional movies as well. Incredibly sick culture that dominated 80s and 90s. Then you wonder why there's a rape culture.</td>\n",
       "      <td id=\"T_25a84_row4_col3\" class=\"data row4 col3\" >0.928571</td>\n",
       "      <td id=\"T_25a84_row4_col4\" class=\"data row4 col4\" >-0.607143</td>\n",
       "      <td id=\"T_25a84_row4_col5\" class=\"data row4 col5\" >Negetive</td>\n",
       "    </tr>\n",
       "  </tbody>\n",
       "</table>\n"
      ],
      "text/plain": [
       "<pandas.io.formats.style.Styler at 0x1e3b9cb8>"
      ]
     },
     "metadata": {},
     "output_type": "display_data"
    },
    {
     "data": {
      "text/html": [
       "<style type=\"text/css\">\n",
       "</style>\n",
       "<table id=\"T_1e155\">\n",
       "  <caption>RAPE PENALTY</caption>\n",
       "  <thead>\n",
       "    <tr>\n",
       "      <th class=\"blank level0\" >&nbsp;</th>\n",
       "      <th id=\"T_1e155_level0_col0\" class=\"col_heading level0 col0\" >Date</th>\n",
       "      <th id=\"T_1e155_level0_col1\" class=\"col_heading level0 col1\" >DisplayName</th>\n",
       "      <th id=\"T_1e155_level0_col2\" class=\"col_heading level0 col2\" >clean_tweet</th>\n",
       "      <th id=\"T_1e155_level0_col3\" class=\"col_heading level0 col3\" >Subjectivity</th>\n",
       "      <th id=\"T_1e155_level0_col4\" class=\"col_heading level0 col4\" >Polarity</th>\n",
       "      <th id=\"T_1e155_level0_col5\" class=\"col_heading level0 col5\" >Sentiments</th>\n",
       "    </tr>\n",
       "  </thead>\n",
       "  <tbody>\n",
       "    <tr>\n",
       "      <th id=\"T_1e155_level0_row0\" class=\"row_heading level0 row0\" >0</th>\n",
       "      <td id=\"T_1e155_row0_col0\" class=\"data row0 col0\" >2022-07-2</td>\n",
       "      <td id=\"T_1e155_row0_col1\" class=\"data row0 col1\" >jude 🦴hell detective (DOLL)</td>\n",
       "      <td id=\"T_1e155_row0_col2\" class=\"data row0 col2\" >cw: sa the thing about sexual violence in fantasy novels is that it ignores so many factors like...for example vikings had a pretty strict penalty for rape (within their society) and it wasn't even tied to \"women are property and rape makes them damaged goods\"</td>\n",
       "      <td id=\"T_1e155_row0_col3\" class=\"data row0 col3\" >0.777778</td>\n",
       "      <td id=\"T_1e155_row0_col4\" class=\"data row0 col4\" >0.416667</td>\n",
       "      <td id=\"T_1e155_row0_col5\" class=\"data row0 col5\" >Positive</td>\n",
       "    </tr>\n",
       "    <tr>\n",
       "      <th id=\"T_1e155_level0_row1\" class=\"row_heading level0 row1\" >1</th>\n",
       "      <td id=\"T_1e155_row1_col0\" class=\"data row1 col0\" >2022-07-2</td>\n",
       "      <td id=\"T_1e155_row1_col1\" class=\"data row1 col1\" >Rachel (is Awake) Horton</td>\n",
       "      <td id=\"T_1e155_row1_col2\" class=\"data row1 col2\" >Let’s try to stop the euphemisms for truly horrific acts.Sexual attraction to animals? Animal rape.Sexual attraction to children? Child rape.Fantasizing about eating fellow human beings? Psychotic and a candidate for the death penalty - NOT a Julia Childs cooking show.</td>\n",
       "      <td id=\"T_1e155_row1_col3\" class=\"data row1 col3\" >0.700000</td>\n",
       "      <td id=\"T_1e155_row1_col4\" class=\"data row1 col4\" >-0.500000</td>\n",
       "      <td id=\"T_1e155_row1_col5\" class=\"data row1 col5\" >Negetive</td>\n",
       "    </tr>\n",
       "    <tr>\n",
       "      <th id=\"T_1e155_level0_row2\" class=\"row_heading level0 row2\" >2</th>\n",
       "      <td id=\"T_1e155_row2_col0\" class=\"data row2 col0\" >2022-07-2</td>\n",
       "      <td id=\"T_1e155_row2_col1\" class=\"data row2 col1\" >Gina Lee  she/her DMs</td>\n",
       "      <td id=\"T_1e155_row2_col2\" class=\"data row2 col2\" >  Pedophilia &amp; rape/incest are HEAVY sins. Especially if they commit murder in the process.They should most definitely be given a life sentence and/or the dəatн penalty for them.No qualms about it.They're sick in the head to commit these atrocious acts.Fkи disgusting.</td>\n",
       "      <td id=\"T_1e155_row2_col3\" class=\"data row2 col3\" >0.765306</td>\n",
       "      <td id=\"T_1e155_row2_col4\" class=\"data row2 col4\" >-0.302041</td>\n",
       "      <td id=\"T_1e155_row2_col5\" class=\"data row2 col5\" >Negetive</td>\n",
       "    </tr>\n",
       "    <tr>\n",
       "      <th id=\"T_1e155_level0_row3\" class=\"row_heading level0 row3\" >3</th>\n",
       "      <td id=\"T_1e155_row3_col0\" class=\"data row3 col0\" >2022-07-2</td>\n",
       "      <td id=\"T_1e155_row3_col1\" class=\"data row3 col1\" >OnyekaChi</td>\n",
       "      <td id=\"T_1e155_row3_col2\" class=\"data row3 col2\" >                  Yes, and the girl will also be blamed because there is a penalty for rape, which means the crime is real and made to be committed by humans not animals Lolz.</td>\n",
       "      <td id=\"T_1e155_row3_col3\" class=\"data row3 col3\" >0.300000</td>\n",
       "      <td id=\"T_1e155_row3_col4\" class=\"data row3 col4\" >0.200000</td>\n",
       "      <td id=\"T_1e155_row3_col5\" class=\"data row3 col5\" >Positive</td>\n",
       "    </tr>\n",
       "    <tr>\n",
       "      <th id=\"T_1e155_level0_row4\" class=\"row_heading level0 row4\" >4</th>\n",
       "      <td id=\"T_1e155_row4_col0\" class=\"data row4 col0\" >2022-07-2</td>\n",
       "      <td id=\"T_1e155_row4_col1\" class=\"data row4 col1\" >angela55</td>\n",
       "      <td id=\"T_1e155_row4_col2\" class=\"data row4 col2\" >        It's also annoying when you can't file that baby in the stomach as a dependent, or letting a father rape his young daughter and give birth, are they really children. These repugs will say they are for the death penalty, isn't that a life??</td>\n",
       "      <td id=\"T_1e155_row4_col3\" class=\"data row4 col3\" >0.500000</td>\n",
       "      <td id=\"T_1e155_row4_col4\" class=\"data row4 col4\" >-0.166667</td>\n",
       "      <td id=\"T_1e155_row4_col5\" class=\"data row4 col5\" >Negetive</td>\n",
       "    </tr>\n",
       "  </tbody>\n",
       "</table>\n"
      ],
      "text/plain": [
       "<pandas.io.formats.style.Styler at 0x1e375cd0>"
      ]
     },
     "metadata": {},
     "output_type": "display_data"
    },
    {
     "data": {
      "text/html": [
       "<style type=\"text/css\">\n",
       "</style>\n",
       "<table id=\"T_52ae2\">\n",
       "  <caption>VICTIM BLAMING</caption>\n",
       "  <thead>\n",
       "    <tr>\n",
       "      <th class=\"blank level0\" >&nbsp;</th>\n",
       "      <th id=\"T_52ae2_level0_col0\" class=\"col_heading level0 col0\" >Date</th>\n",
       "      <th id=\"T_52ae2_level0_col1\" class=\"col_heading level0 col1\" >DisplayName</th>\n",
       "      <th id=\"T_52ae2_level0_col2\" class=\"col_heading level0 col2\" >clean_tweet</th>\n",
       "      <th id=\"T_52ae2_level0_col3\" class=\"col_heading level0 col3\" >Subjectivity</th>\n",
       "      <th id=\"T_52ae2_level0_col4\" class=\"col_heading level0 col4\" >Polarity</th>\n",
       "      <th id=\"T_52ae2_level0_col5\" class=\"col_heading level0 col5\" >Sentiments</th>\n",
       "    </tr>\n",
       "  </thead>\n",
       "  <tbody>\n",
       "    <tr>\n",
       "      <th id=\"T_52ae2_level0_row0\" class=\"row_heading level0 row0\" >0</th>\n",
       "      <td id=\"T_52ae2_row0_col0\" class=\"data row0 col0\" >2022-07-2</td>\n",
       "      <td id=\"T_52ae2_row0_col1\" class=\"data row0 col1\" >Krunken Duncan</td>\n",
       "      <td id=\"T_52ae2_row0_col2\" class=\"data row0 col2\" >      Saved a potential rape victim and stop a dude with a six in blade cause I’m a coward I guess.Also I’m not killing kids, I agree the idiots that go to gun free zones to kill are cowards and horrible people, but blaming me is a stretch.</td>\n",
       "      <td id=\"T_52ae2_row0_col3\" class=\"data row0 col3\" >0.730000</td>\n",
       "      <td id=\"T_52ae2_row0_col4\" class=\"data row0 col4\" >-0.295000</td>\n",
       "      <td id=\"T_52ae2_row0_col5\" class=\"data row0 col5\" >Negetive</td>\n",
       "    </tr>\n",
       "    <tr>\n",
       "      <th id=\"T_52ae2_level0_row1\" class=\"row_heading level0 row1\" >1</th>\n",
       "      <td id=\"T_52ae2_row1_col0\" class=\"data row1 col0\" >2022-07-2</td>\n",
       "      <td id=\"T_52ae2_row1_col1\" class=\"data row1 col1\" >Jay Robertson </td>\n",
       "      <td id=\"T_52ae2_row1_col2\" class=\"data row1 col2\" >  The GOP's \"blame the Capitol Police\" tactics pretty much amounts to blaming a rape victim for wearing *that* skirt\".</td>\n",
       "      <td id=\"T_52ae2_row1_col3\" class=\"data row1 col3\" >0.416667</td>\n",
       "      <td id=\"T_52ae2_row1_col4\" class=\"data row1 col4\" >0.125000</td>\n",
       "      <td id=\"T_52ae2_row1_col5\" class=\"data row1 col5\" >Positive</td>\n",
       "    </tr>\n",
       "    <tr>\n",
       "      <th id=\"T_52ae2_level0_row2\" class=\"row_heading level0 row2\" >2</th>\n",
       "      <td id=\"T_52ae2_row2_col0\" class=\"data row2 col0\" >2022-07-2</td>\n",
       "      <td id=\"T_52ae2_row2_col1\" class=\"data row2 col1\" >Thando Ndlovu</td>\n",
       "      <td id=\"T_52ae2_row2_col2\" class=\"data row2 col2\" >  That doesn't work in Zim!! This is crazy victim blaming!! Do you also want us to prove that Judith Todd's rape was real too!?</td>\n",
       "      <td id=\"T_52ae2_row2_col3\" class=\"data row2 col3\" >0.416667</td>\n",
       "      <td id=\"T_52ae2_row2_col4\" class=\"data row2 col4\" >-0.155729</td>\n",
       "      <td id=\"T_52ae2_row2_col5\" class=\"data row2 col5\" >Negetive</td>\n",
       "    </tr>\n",
       "    <tr>\n",
       "      <th id=\"T_52ae2_level0_row3\" class=\"row_heading level0 row3\" >3</th>\n",
       "      <td id=\"T_52ae2_row3_col0\" class=\"data row3 col0\" >2022-07-2</td>\n",
       "      <td id=\"T_52ae2_row3_col1\" class=\"data row3 col1\" >lawrence</td>\n",
       "      <td id=\"T_52ae2_row3_col2\" class=\"data row3 col2\" >    That's like blaming the rape victim for not fighting back hard enough. Ahhh. But that IS what you guys do, right? Trump lost. You've been conned. Stop sending him your money. Remove the red hat and let in some fresh air. TURN OFF FOX NEWS.</td>\n",
       "      <td id=\"T_52ae2_row3_col3\" class=\"data row3 col3\" >0.303912</td>\n",
       "      <td id=\"T_52ae2_row3_col4\" class=\"data row3 col4\" >0.031293</td>\n",
       "      <td id=\"T_52ae2_row3_col5\" class=\"data row3 col5\" >Positive</td>\n",
       "    </tr>\n",
       "    <tr>\n",
       "      <th id=\"T_52ae2_level0_row4\" class=\"row_heading level0 row4\" >4</th>\n",
       "      <td id=\"T_52ae2_row4_col0\" class=\"data row4 col0\" >2022-07-2</td>\n",
       "      <td id=\"T_52ae2_row4_col1\" class=\"data row4 col1\" >DreamZim</td>\n",
       "      <td id=\"T_52ae2_row4_col2\" class=\"data row4 col2\" >      Its sad when it's coming from a person who says was a victim of rape. You can't judge Susan based on what happend after she was psychologically traumatised at 16.  Instead of seeing her sleeping with all the other men as q condition caused by a traumatic past you go blaming her.</td>\n",
       "      <td id=\"T_52ae2_row4_col3\" class=\"data row4 col3\" >0.355000</td>\n",
       "      <td id=\"T_52ae2_row4_col4\" class=\"data row4 col4\" >-0.190000</td>\n",
       "      <td id=\"T_52ae2_row4_col5\" class=\"data row4 col5\" >Negetive</td>\n",
       "    </tr>\n",
       "  </tbody>\n",
       "</table>\n"
      ],
      "text/plain": [
       "<pandas.io.formats.style.Styler at 0x1e3b9cb8>"
      ]
     },
     "metadata": {},
     "output_type": "display_data"
    },
    {
     "data": {
      "text/html": [
       "<style type=\"text/css\">\n",
       "</style>\n",
       "<table id=\"T_1bb93\">\n",
       "  <caption>SELF DEFENCE</caption>\n",
       "  <thead>\n",
       "    <tr>\n",
       "      <th class=\"blank level0\" >&nbsp;</th>\n",
       "      <th id=\"T_1bb93_level0_col0\" class=\"col_heading level0 col0\" >Date</th>\n",
       "      <th id=\"T_1bb93_level0_col1\" class=\"col_heading level0 col1\" >DisplayName</th>\n",
       "      <th id=\"T_1bb93_level0_col2\" class=\"col_heading level0 col2\" >clean_tweet</th>\n",
       "      <th id=\"T_1bb93_level0_col3\" class=\"col_heading level0 col3\" >Subjectivity</th>\n",
       "      <th id=\"T_1bb93_level0_col4\" class=\"col_heading level0 col4\" >Polarity</th>\n",
       "      <th id=\"T_1bb93_level0_col5\" class=\"col_heading level0 col5\" >Sentiments</th>\n",
       "    </tr>\n",
       "  </thead>\n",
       "  <tbody>\n",
       "    <tr>\n",
       "      <th id=\"T_1bb93_level0_row0\" class=\"row_heading level0 row0\" >0</th>\n",
       "      <td id=\"T_1bb93_row0_col0\" class=\"data row0 col0\" >2022-07-2</td>\n",
       "      <td id=\"T_1bb93_row0_col1\" class=\"data row0 col1\" >Susan Jane Allen ‍</td>\n",
       "      <td id=\"T_1bb93_row0_col2\" class=\"data row0 col2\" >  Great self defense tool. Every woman should have one. Once employed against an attacker, it would certainly be a no brainer for a rape charge. My only suggestion is the barbs should be razor sharp metal! Make it hurt!</td>\n",
       "      <td id=\"T_1bb93_row0_col3\" class=\"data row0 col3\" >0.767857</td>\n",
       "      <td id=\"T_1bb93_row0_col4\" class=\"data row0 col4\" >0.124386</td>\n",
       "      <td id=\"T_1bb93_row0_col5\" class=\"data row0 col5\" >Positive</td>\n",
       "    </tr>\n",
       "    <tr>\n",
       "      <th id=\"T_1bb93_level0_row1\" class=\"row_heading level0 row1\" >1</th>\n",
       "      <td id=\"T_1bb93_row1_col0\" class=\"data row1 col0\" >2022-07-2</td>\n",
       "      <td id=\"T_1bb93_row1_col1\" class=\"data row1 col1\" >alexander</td>\n",
       "      <td id=\"T_1bb93_row1_col2\" class=\"data row1 col2\" >      Here’s a wild suggestion men need to keep it in their pants and know that no means no or make it legal for women to chop it off in self defense if he tries to rape her.</td>\n",
       "      <td id=\"T_1bb93_row1_col3\" class=\"data row1 col3\" >0.333333</td>\n",
       "      <td id=\"T_1bb93_row1_col4\" class=\"data row1 col4\" >0.066667</td>\n",
       "      <td id=\"T_1bb93_row1_col5\" class=\"data row1 col5\" >Positive</td>\n",
       "    </tr>\n",
       "    <tr>\n",
       "      <th id=\"T_1bb93_level0_row2\" class=\"row_heading level0 row2\" >2</th>\n",
       "      <td id=\"T_1bb93_row2_col0\" class=\"data row2 col0\" >2022-07-2</td>\n",
       "      <td id=\"T_1bb93_row2_col1\" class=\"data row2 col1\" >Skye</td>\n",
       "      <td id=\"T_1bb93_row2_col2\" class=\"data row2 col2\" >      She is. Her genius suggestion for fighting GBV: streetlights. Not self-defense, not pressure on govt/saps to do their jobs and prosecute perps (there’s a massive shortage of rape kits, consumables, 200k DNA processing backlog at forensics lab, etc etc).No. Streetlights.</td>\n",
       "      <td id=\"T_1bb93_row2_col3\" class=\"data row2 col3\" >1.000000</td>\n",
       "      <td id=\"T_1bb93_row2_col4\" class=\"data row2 col4\" >0.000000</td>\n",
       "      <td id=\"T_1bb93_row2_col5\" class=\"data row2 col5\" >Neutral</td>\n",
       "    </tr>\n",
       "    <tr>\n",
       "      <th id=\"T_1bb93_level0_row3\" class=\"row_heading level0 row3\" >3</th>\n",
       "      <td id=\"T_1bb93_row3_col0\" class=\"data row3 col0\" >2022-07-2</td>\n",
       "      <td id=\"T_1bb93_row3_col1\" class=\"data row3 col1\" >🦋</td>\n",
       "      <td id=\"T_1bb93_row3_col2\" class=\"data row3 col2\" >                Right! Evil comes from all genders so self defense does not only protect against men or rape it’s protects from anyone looking to harm which could stealing, killing, assaulting etc! I just don’t see how the suggestion is offensive.</td>\n",
       "      <td id=\"T_1bb93_row3_col3\" class=\"data row3 col3\" >0.845238</td>\n",
       "      <td id=\"T_1bb93_row3_col4\" class=\"data row3 col4\" >-0.214286</td>\n",
       "      <td id=\"T_1bb93_row3_col5\" class=\"data row3 col5\" >Negetive</td>\n",
       "    </tr>\n",
       "    <tr>\n",
       "      <th id=\"T_1bb93_level0_row4\" class=\"row_heading level0 row4\" >4</th>\n",
       "      <td id=\"T_1bb93_row4_col0\" class=\"data row4 col0\" >2022-07-2</td>\n",
       "      <td id=\"T_1bb93_row4_col1\" class=\"data row4 col1\" >🦋</td>\n",
       "      <td id=\"T_1bb93_row4_col2\" class=\"data row4 col2\" >Stop this from the roof top that will stop them!? I’m a perfect world there wouldn’t be rape, there wouldn’t be stealing, lying, killing etc. but we are NOT in a perfect world so why not get self defense!? Why is that such a damn offensive suggestion!?!?</td>\n",
       "      <td id=\"T_1bb93_row4_col3\" class=\"data row4 col3\" >0.750000</td>\n",
       "      <td id=\"T_1bb93_row4_col4\" class=\"data row4 col4\" >0.656250</td>\n",
       "      <td id=\"T_1bb93_row4_col5\" class=\"data row4 col5\" >Positive</td>\n",
       "    </tr>\n",
       "  </tbody>\n",
       "</table>\n"
      ],
      "text/plain": [
       "<pandas.io.formats.style.Styler at 0x1e375cd0>"
      ]
     },
     "metadata": {},
     "output_type": "display_data"
    },
    {
     "data": {
      "text/html": [
       "<style type=\"text/css\">\n",
       "</style>\n",
       "<table id=\"T_6c587\">\n",
       "  <caption>CALL TO ACTION</caption>\n",
       "  <thead>\n",
       "    <tr>\n",
       "      <th class=\"blank level0\" >&nbsp;</th>\n",
       "      <th id=\"T_6c587_level0_col0\" class=\"col_heading level0 col0\" >Date</th>\n",
       "      <th id=\"T_6c587_level0_col1\" class=\"col_heading level0 col1\" >DisplayName</th>\n",
       "      <th id=\"T_6c587_level0_col2\" class=\"col_heading level0 col2\" >clean_tweet</th>\n",
       "      <th id=\"T_6c587_level0_col3\" class=\"col_heading level0 col3\" >Subjectivity</th>\n",
       "      <th id=\"T_6c587_level0_col4\" class=\"col_heading level0 col4\" >Polarity</th>\n",
       "      <th id=\"T_6c587_level0_col5\" class=\"col_heading level0 col5\" >Sentiments</th>\n",
       "    </tr>\n",
       "  </thead>\n",
       "  <tbody>\n",
       "    <tr>\n",
       "      <th id=\"T_6c587_level0_row0\" class=\"row_heading level0 row0\" >0</th>\n",
       "      <td id=\"T_6c587_row0_col0\" class=\"data row0 col0\" >2022-07-2</td>\n",
       "      <td id=\"T_6c587_row0_col1\" class=\"data row0 col1\" >функціональний математикун</td>\n",
       "      <td id=\"T_6c587_row0_col2\" class=\"data row0 col2\" >      \"No to war\" is not a call to action. It doesn't mean a thing. Russia decided to invade Ukraine. Tens of thousands of russian people rape,kill and humiliate our people. Every our aggressive action is only to prevent destruction. It should've been at least \"no to russian invasion\"</td>\n",
       "      <td id=\"T_6c587_row0_col3\" class=\"data row0 col3\" >0.326786</td>\n",
       "      <td id=\"T_6c587_row0_col4\" class=\"data row0 col4\" >-0.058929</td>\n",
       "      <td id=\"T_6c587_row0_col5\" class=\"data row0 col5\" >Negetive</td>\n",
       "    </tr>\n",
       "    <tr>\n",
       "      <th id=\"T_6c587_level0_row1\" class=\"row_heading level0 row1\" >1</th>\n",
       "      <td id=\"T_6c587_row1_col0\" class=\"data row1 col0\" >2022-07-2</td>\n",
       "      <td id=\"T_6c587_row1_col1\" class=\"data row1 col1\" >Deniz Rojda Tunç</td>\n",
       "      <td id=\"T_6c587_row1_col2\" class=\"data row1 col2\" >I think the Greek police means that we are protecting the rapists agains to the call to action for the rape attempts in the region recently!  Hundreds of police are waiting for the protesters surrounding the park.  you are a misogynist!!</td>\n",
       "      <td id=\"T_6c587_row1_col3\" class=\"data row1 col3\" >0.116667</td>\n",
       "      <td id=\"T_6c587_row1_col4\" class=\"data row1 col4\" >0.033333</td>\n",
       "      <td id=\"T_6c587_row1_col5\" class=\"data row1 col5\" >Positive</td>\n",
       "    </tr>\n",
       "    <tr>\n",
       "      <th id=\"T_6c587_level0_row2\" class=\"row_heading level0 row2\" >2</th>\n",
       "      <td id=\"T_6c587_row2_col0\" class=\"data row2 col0\" >2022-07-2</td>\n",
       "      <td id=\"T_6c587_row2_col1\" class=\"data row2 col1\" >Jane Beckwith</td>\n",
       "      <td id=\"T_6c587_row2_col2\" class=\"data row2 col2\" >      I feel like it might be both the 1860s and 1960s...There is certainly a moral call to action to protect fundamental freedoms. I am willing to fight for abortion rights without mentioning any specific child victim of rape though. My choice.</td>\n",
       "      <td id=\"T_6c587_row2_col3\" class=\"data row2 col3\" >0.255000</td>\n",
       "      <td id=\"T_6c587_row2_col4\" class=\"data row2 col4\" >0.055000</td>\n",
       "      <td id=\"T_6c587_row2_col5\" class=\"data row2 col5\" >Positive</td>\n",
       "    </tr>\n",
       "    <tr>\n",
       "      <th id=\"T_6c587_level0_row3\" class=\"row_heading level0 row3\" >3</th>\n",
       "      <td id=\"T_6c587_row3_col0\" class=\"data row3 col0\" >2022-07-2</td>\n",
       "      <td id=\"T_6c587_row3_col1\" class=\"data row3 col1\" >Juquan Highsmith (Up/Yours)</td>\n",
       "      <td id=\"T_6c587_row3_col2\" class=\"data row3 col2\" >      Master of the obvious here.  Jesus, I am talking about the story, Moses and God.  I am saying Moses was when that rule was codified.  And words do equal crime, \"a call to action\" is illegal.  I say we arrest all rappers, they glorify violence and rape.</td>\n",
       "      <td id=\"T_6c587_row3_col3\" class=\"data row3 col3\" >0.270000</td>\n",
       "      <td id=\"T_6c587_row3_col4\" class=\"data row3 col4\" >-0.090000</td>\n",
       "      <td id=\"T_6c587_row3_col5\" class=\"data row3 col5\" >Negetive</td>\n",
       "    </tr>\n",
       "    <tr>\n",
       "      <th id=\"T_6c587_level0_row4\" class=\"row_heading level0 row4\" >4</th>\n",
       "      <td id=\"T_6c587_row4_col0\" class=\"data row4 col0\" >2022-07-2</td>\n",
       "      <td id=\"T_6c587_row4_col1\" class=\"data row4 col1\" >Nicole Amundsen</td>\n",
       "      <td id=\"T_6c587_row4_col2\" class=\"data row4 col2\" >  Take the National Stage on this. Democrat Leaders like you must fight the insane hypocrisy of the extremist GOP, the one that says 10 year rape victim must bear a child. End this insanity with strong leadership and a call to Action!!! Thank you.</td>\n",
       "      <td id=\"T_6c587_row4_col3\" class=\"data row4 col3\" >0.470833</td>\n",
       "      <td id=\"T_6c587_row4_col4\" class=\"data row4 col4\" >-0.111589</td>\n",
       "      <td id=\"T_6c587_row4_col5\" class=\"data row4 col5\" >Negetive</td>\n",
       "    </tr>\n",
       "  </tbody>\n",
       "</table>\n"
      ],
      "text/plain": [
       "<pandas.io.formats.style.Styler at 0x1e3b9cb8>"
      ]
     },
     "metadata": {},
     "output_type": "display_data"
    },
    {
     "data": {
      "text/html": [
       "<style type=\"text/css\">\n",
       "</style>\n",
       "<table id=\"T_a36e7\">\n",
       "  <caption>SAY NO TO RAPE</caption>\n",
       "  <thead>\n",
       "    <tr>\n",
       "      <th class=\"blank level0\" >&nbsp;</th>\n",
       "      <th id=\"T_a36e7_level0_col0\" class=\"col_heading level0 col0\" >Date</th>\n",
       "      <th id=\"T_a36e7_level0_col1\" class=\"col_heading level0 col1\" >DisplayName</th>\n",
       "      <th id=\"T_a36e7_level0_col2\" class=\"col_heading level0 col2\" >clean_tweet</th>\n",
       "      <th id=\"T_a36e7_level0_col3\" class=\"col_heading level0 col3\" >Subjectivity</th>\n",
       "      <th id=\"T_a36e7_level0_col4\" class=\"col_heading level0 col4\" >Polarity</th>\n",
       "      <th id=\"T_a36e7_level0_col5\" class=\"col_heading level0 col5\" >Sentiments</th>\n",
       "    </tr>\n",
       "  </thead>\n",
       "  <tbody>\n",
       "    <tr>\n",
       "      <th id=\"T_a36e7_level0_row0\" class=\"row_heading level0 row0\" >0</th>\n",
       "      <td id=\"T_a36e7_row0_col0\" class=\"data row0 col0\" >2022-07-2</td>\n",
       "      <td id=\"T_a36e7_row0_col1\" class=\"data row0 col1\" >First India</td>\n",
       "      <td id=\"T_a36e7_row0_col2\" class=\"data row0 col2\" >An eight-and-a-half-year-old girl was allegedly raped inside the toilet of a government school in the Khoefiza area of Bhopal by husband of a sweeper employed there, said police on Saturday.       RapeCases </td>\n",
       "      <td id=\"T_a36e7_row0_col3\" class=\"data row0 col3\" >0.050000</td>\n",
       "      <td id=\"T_a36e7_row0_col4\" class=\"data row0 col4\" >-0.066667</td>\n",
       "      <td id=\"T_a36e7_row0_col5\" class=\"data row0 col5\" >Negetive</td>\n",
       "    </tr>\n",
       "    <tr>\n",
       "      <th id=\"T_a36e7_level0_row1\" class=\"row_heading level0 row1\" >1</th>\n",
       "      <td id=\"T_a36e7_row1_col0\" class=\"data row1 col0\" >2022-07-2</td>\n",
       "      <td id=\"T_a36e7_row1_col1\" class=\"data row1 col1\" >The Global Insider</td>\n",
       "      <td id=\"T_a36e7_row1_col2\" class=\"data row1 col2\" >Govt notifies 26-member anti-rape committee.RapeEmergency  Rape   </td>\n",
       "      <td id=\"T_a36e7_row1_col3\" class=\"data row1 col3\" >0.000000</td>\n",
       "      <td id=\"T_a36e7_row1_col4\" class=\"data row1 col4\" >0.000000</td>\n",
       "      <td id=\"T_a36e7_row1_col5\" class=\"data row1 col5\" >Neutral</td>\n",
       "    </tr>\n",
       "    <tr>\n",
       "      <th id=\"T_a36e7_level0_row2\" class=\"row_heading level0 row2\" >2</th>\n",
       "      <td id=\"T_a36e7_row2_col0\" class=\"data row2 col0\" >2022-07-2</td>\n",
       "      <td id=\"T_a36e7_row2_col1\" class=\"data row2 col1\" >Yungskid</td>\n",
       "      <td id=\"T_a36e7_row2_col2\" class=\"data row2 col2\" >Hello Twitter! Has anything been done to these boys? Please let’s find these boys so justice can be served. So sad to watch💔                      </td>\n",
       "      <td id=\"T_a36e7_row2_col3\" class=\"data row2 col3\" >1.000000</td>\n",
       "      <td id=\"T_a36e7_row2_col4\" class=\"data row2 col4\" >-0.500000</td>\n",
       "      <td id=\"T_a36e7_row2_col5\" class=\"data row2 col5\" >Negetive</td>\n",
       "    </tr>\n",
       "    <tr>\n",
       "      <th id=\"T_a36e7_level0_row3\" class=\"row_heading level0 row3\" >3</th>\n",
       "      <td id=\"T_a36e7_row3_col0\" class=\"data row3 col0\" >2022-07-2</td>\n",
       "      <td id=\"T_a36e7_row3_col1\" class=\"data row3 col1\" >ALex Intelligence</td>\n",
       "      <td id=\"T_a36e7_row3_col2\" class=\"data row3 col2\" >Read my thoughts on YourQuote app at      </td>\n",
       "      <td id=\"T_a36e7_row3_col3\" class=\"data row3 col3\" >0.000000</td>\n",
       "      <td id=\"T_a36e7_row3_col4\" class=\"data row3 col4\" >0.000000</td>\n",
       "      <td id=\"T_a36e7_row3_col5\" class=\"data row3 col5\" >Neutral</td>\n",
       "    </tr>\n",
       "    <tr>\n",
       "      <th id=\"T_a36e7_level0_row4\" class=\"row_heading level0 row4\" >4</th>\n",
       "      <td id=\"T_a36e7_row4_col0\" class=\"data row4 col0\" >2022-07-2</td>\n",
       "      <td id=\"T_a36e7_row4_col1\" class=\"data row4 col1\" >Akitiolu </td>\n",
       "      <td id=\"T_a36e7_row4_col2\" class=\"data row4 col2\" >Let’s talk about rape; let me bring this back.  also stop  so the fight won’t be lost. </td>\n",
       "      <td id=\"T_a36e7_row4_col3\" class=\"data row4 col3\" >0.000000</td>\n",
       "      <td id=\"T_a36e7_row4_col4\" class=\"data row4 col4\" >0.000000</td>\n",
       "      <td id=\"T_a36e7_row4_col5\" class=\"data row4 col5\" >Neutral</td>\n",
       "    </tr>\n",
       "  </tbody>\n",
       "</table>\n"
      ],
      "text/plain": [
       "<pandas.io.formats.style.Styler at 0x1e375cd0>"
      ]
     },
     "metadata": {},
     "output_type": "display_data"
    }
   ],
   "source": [
    "rape_culture2_.drop(['Unnamed: 0'], axis = 1, inplace = True)\n",
    "Say_no_to_rape_.drop(['Unnamed: 0'], axis = 1, inplace = True)\n",
    "rape_penalty_.drop(['Unnamed: 0'], axis = 1, inplace = True)\n",
    "victim_blaming_.drop(['Unnamed: 0'], axis = 1, inplace = True)\n",
    "self_defence_.drop(['Unnamed: 0'], axis = 1, inplace = True)\n",
    "call_to_action_.drop(['Unnamed: 0'], axis = 1, inplace = True)\n",
    "\n",
    "# Display each of the datasets\n",
    "import jinja2 #...................This helps us to give the table titles\n",
    "\n",
    "display(rape_culture2_.head(5).style.set_caption(\"RAPE CULTURE\"))\n",
    "display(rape_penalty_.head(5).style.set_caption(\"RAPE PENALTY\"))\n",
    "display(victim_blaming_.head(5).style.set_caption(\"VICTIM BLAMING\"))\n",
    "display(self_defence_.head(5).style.set_caption(\"SELF DEFENCE\"))\n",
    "display(call_to_action_.head(5).style.set_caption(\"CALL TO ACTION\"))\n",
    "display(Say_no_to_rape_.head(5).style.set_caption(\"SAY NO TO RAPE\"))"
   ]
  },
  {
   "cell_type": "markdown",
   "metadata": {},
   "source": [
    "--------------------------------\n",
    "### Visualization Of Public Sentiments"
   ]
  },
  {
   "cell_type": "code",
   "execution_count": 62,
   "metadata": {},
   "outputs": [
    {
     "data": {
      "text/plain": [
       "3923                Last, I’m not sure if you realize it but you’re being completely biphobic / homophobic. You’re blackmailing people to have sex with people they’re not attracted to. I’m not bullying straight men and calling them homophobic for not wanting me. That’s rape culture.\n",
       "3924                                                                                                                                   People will deny tooth and nail that pedophile culture and child abuse culture exist even if they accept that rape culture exists. It’s incredible. \n",
       "3925                                                Love spanning age gap between consenting adults resulting in unity of marriage = Profanity?. Woke = Alert to social injustice, especially rascism. MeToo = a social movement against sexual abuse, sexual harassment, and rape culture.\n",
       "3926                                                                                                                                                                                Is from the Ivory Coast where women are chattels , rape culture is rife and they still practice FGM.   \n",
       "3927                                                                                                                                                     the internalization of rape culture convolutes gender politics, to the point where constructive conversation is nearly impossible.\n",
       "3928                                                                                                                                        Disgusting excuses powerful men  alcohol used as an excuse to violate and sexually abuse others is not surprising  allow rape culture          \n",
       "Name: clean_tweet, dtype: object"
      ]
     },
     "metadata": {},
     "output_type": "display_data"
    },
    {
     "data": {
      "image/png": "[encoded data removed]",
      "text/plain": [
       "<Figure size 576x432 with 1 Axes>"
      ]
     },
     "metadata": {},
     "output_type": "display_data"
    }
   ],
   "source": [
    "# Visualization on Rape Culture\n",
    "\n",
    "with pd.option_context('display.max_colwidth', None):\n",
    "  display(rape_culture2_['clean_tweet'].tail(6))\n",
    "\n",
    "plt.figure(figsize = (8, 6))\n",
    "sns.set(style = 'darkgrid')\n",
    "orders = rape_culture2_['Sentiments'].value_counts(ascending = False).index\n",
    "sns.countplot(x = rape_culture2_['Sentiments'], order = orders).set(title = 'Rape Culture Perception')\n",
    "plt.show()"
   ]
  },
  {
   "cell_type": "code",
   "execution_count": 65,
   "metadata": {},
   "outputs": [
    {
     "data": {
      "text/plain": [
       "3827                                 Not having consent for sexual relations is illegal, this constitutes rape or sexual assault. Which as you know isn't well prosecuted in court and usually has minimal penalties. See literally all church abuse cases, Brock Turner, Weinstein, etc etc.\n",
       "3828                                            Men who rape women are charged with “attempt to challenge a woman’s modesty” rather than rape which is light penalty, and since 2021 rape stats (with mostly women victims) have gone up 12%. I can provide some links for you to read up on?\n",
       "3829                                                                                                                                                                                                                             18 years ffs, rape of a child should be the death penalty !!\n",
       "3830                                                                                                                                                                                                                                              I support the Death Penalty for child rape.\n",
       "3831                                                                                                                                                                                                            Yeah let’s start with the death penalty for men who are found guilty of rape.\n",
       "3832        Look at some of the proposals to make penalties for the use of birth control the same as murder. Abstaining will be the only route, which is still a risk for women, because even victims of rape and incest are subject to harsher penalties than their attackers, for abortion.\n",
       "Name: clean_tweet, dtype: object"
      ]
     },
     "metadata": {},
     "output_type": "display_data"
    },
    {
     "data": {
      "image/png": "[encoded data removed]",
      "text/plain": [
       "<Figure size 576x432 with 1 Axes>"
      ]
     },
     "metadata": {},
     "output_type": "display_data"
    }
   ],
   "source": [
    "# Visualization on Rape Penalty\n",
    "\n",
    "with pd.option_context('display.max_colwidth', None):\n",
    "  display(rape_penalty_['clean_tweet'].tail(6))\n",
    "\n",
    "plt.figure(figsize = (8, 6))\n",
    "sns.set(style = 'darkgrid')\n",
    "orders = rape_penalty_['Sentiments'].value_counts(ascending = False).index\n",
    "sns.countplot(x = rape_penalty_['Sentiments'], order = orders).set(title = 'Rape Penalty Perception')\n",
    "plt.show()"
   ]
  },
  {
   "cell_type": "code",
   "execution_count": 66,
   "metadata": {},
   "outputs": [
    {
     "data": {
      "text/plain": [
       "3926                                                      babe if a muslim woman WILLINGLY wants to wear a hijab to show her devotion and be modest, what’s the issue?? It is about being devoted to Allah, it definitely is not “rape culture” nor is it “victim blaming”\n",
       "3927      Quite, question should be how tf did no-one make a noise about this in Dec? I haven't watched it as JC is a racist, ableist, queerphobic, rape joke making pos. Had I, I'd have been making a racket. Sorry they're victim blaming, utter evil oxygen theives. X\n",
       "3928                                                                              They should be apologizing to you for victim blaming you. People should know that sexual harassment has nothing to do with what you wear or do. That's rape culture and it needs to stop\n",
       "3929                                                                                                                                                                                                                                         Rape culture/ victim blaming \n",
       "3930                                                                                                                                                                                                                     PepeLa D is too busy victim blaming a rape victim\n",
       "3931                                                                                         another sad part is that everyone is forgetting about Pamela victim blaming rape victims but here you are going so hard for a woman who later sold the rights to the sex tape\n",
       "Name: clean_tweet, dtype: object"
      ]
     },
     "metadata": {},
     "output_type": "display_data"
    },
    {
     "data": {
      "image/png": "[encoded data removed]",
      "text/plain": [
       "<Figure size 576x432 with 1 Axes>"
      ]
     },
     "metadata": {},
     "output_type": "display_data"
    }
   ],
   "source": [
    "# Visualization on Victim Blaming\n",
    "\n",
    "with pd.option_context('display.max_colwidth', None):\n",
    "  display(victim_blaming_['clean_tweet'].tail(6))\n",
    "\n",
    "plt.figure(figsize = (8, 6))\n",
    "sns.set(style = 'darkgrid')\n",
    "orders = victim_blaming_['Sentiments'].value_counts(ascending = False).index\n",
    "sns.countplot(x = victim_blaming_['Sentiments'], order = orders).set(title = 'Victim Blaming Perception')\n",
    "plt.show()"
   ]
  },
  {
   "cell_type": "code",
   "execution_count": 67,
   "metadata": {},
   "outputs": [
    {
     "data": {
      "text/plain": [
       "56            While it would be nice if men would just \"not rape,\" perhaps it would be prudent to follow 's suggestion that you learn self defense\n",
       "57                                                  Feminists Freak Out Over Miss Nevada Suggestion Women Learn Self Defense to Avoid Rape  via   \n",
       "58                            So the suggestion that the best way to prevent rape is to be able-bodied and capable of self-defense really irks me.\n",
       "59                           A suggestion: Women self defense lessons.In a country with such high rape stats there's no one that offers this in  😕\n",
       "60                  Amazed at neg responses to   suggestion that reminding/training men not to rape works better then a gun or self defense train.\n",
       "61    Hannity said that a suggestion to learn jujitsu to defend agains rape is stupid then 2min later women need to learn self defense 4protection\n",
       "Name: clean_tweet, dtype: object"
      ]
     },
     "metadata": {},
     "output_type": "display_data"
    },
    {
     "data": {
      "image/png": "[encoded data removed]",
      "text/plain": [
       "<Figure size 576x432 with 1 Axes>"
      ]
     },
     "metadata": {},
     "output_type": "display_data"
    }
   ],
   "source": [
    "# Visualization on Self Defence\n",
    "\n",
    "with pd.option_context('display.max_colwidth', None):\n",
    "  display(self_defence_['clean_tweet'].tail(6))\n",
    "\n",
    "plt.figure(figsize = (8, 6))\n",
    "sns.set(style = 'darkgrid')\n",
    "orders = self_defence_['Sentiments'].value_counts(ascending = False).index\n",
    "sns.countplot(x = self_defence_['Sentiments'], order = orders).set(title = 'Self Defence Perception')\n",
    "plt.show()"
   ]
  },
  {
   "cell_type": "code",
   "execution_count": 70,
   "metadata": {},
   "outputs": [
    {
     "data": {
      "text/plain": [
       "0    An eight-and-a-half-year-old girl was allegedly raped inside the toilet of a government school in the Khoefiza area of Bhopal by husband of a sweeper employed there, said police on Saturday.       RapeCases \n",
       "1                                                                                                                                                 Govt notifies 26-member anti-rape committee.RapeEmergency  Rape   \n",
       "2                                                                 Hello Twitter! Has anything been done to these boys? Please let’s find these boys so justice can be served. So sad to watch💔                      \n",
       "3                                                                                                                                                                         Read my thoughts on YourQuote app at      \n",
       "4                                                                                                                            Let’s talk about rape; let me bring this back.  also stop  so the fight won’t be lost. \n",
       "5                                                                                            Edo people wetin dey happen some days back death of a priest, now this 19yrs old raped and stab. Why                   \n",
       "Name: clean_tweet, dtype: object"
      ]
     },
     "metadata": {},
     "output_type": "display_data"
    },
    {
     "data": {
      "image/png": "[encoded data removed]",
      "text/plain": [
       "<Figure size 576x432 with 1 Axes>"
      ]
     },
     "metadata": {},
     "output_type": "display_data"
    }
   ],
   "source": [
    "# Visualization on Say No To Rape \n",
    "\n",
    "with pd.option_context('display.max_colwidth', None):\n",
    "  display(Say_no_to_rape_['clean_tweet'].head(6))\n",
    "\n",
    "plt.figure(figsize = (8, 6))\n",
    "sns.set(style = 'darkgrid')\n",
    "orders = Say_no_to_rape_['Sentiments'].value_counts(ascending = False).index\n",
    "sns.countplot(x = Say_no_to_rape_['Sentiments'], order = orders).set(title = 'Say No To Rape Perception')\n",
    "plt.show()"
   ]
  },
  {
   "cell_type": "code",
   "execution_count": 74,
   "metadata": {},
   "outputs": [
    {
     "data": {
      "text/plain": [
       "26                                                                                                                      Research Series💌| The Gender-Inclusive Rape Myth Acceptance Scale ⑤⑥- Call to Action Check out our article here:   RapeMyth \n",
       "27                                                                                                                     Video 73 Intellectual Rape of America!  Call to Action!  Stop The Rape! Share the info!  The American people are waking up!  \n",
       "28                                                called it a genocide by Russia ! What are we waiting for ? More videos, More stories of rape and torture. If we don’t help now it will soon be on our doorsteps, our streets.. call to Action now!\n",
       "29    Call to Action- Global Protest 4/2/22 Enemies of the Tigray ppl are continuing their genocidal acts in unconscionable ways. man-made starvation, extrajudicial killings, and rape are not enough; now they are burning Tigrayans alive. ❤️💛   \n",
       "30                                                          You skipped the second half of the verse.It would be like saying \"It would be better for a man to die rather than rape a child.\"He hasn't raped a child yet, there is no call to action.\n",
       "31              Call to Action- Global ProtestEnemies of the Tigray ppl are continuing their genocidal acts in unconscionable ways. man-made starvation, extrajudicial killings, and rape are not enough; now they are burning Tigrayans alive. ❤️💛 \n",
       "Name: clean_tweet, dtype: object"
      ]
     },
     "metadata": {},
     "output_type": "display_data"
    },
    {
     "data": {
      "image/png": "[encoded data removed]",
      "text/plain": [
       "<Figure size 576x432 with 1 Axes>"
      ]
     },
     "metadata": {},
     "output_type": "display_data"
    }
   ],
   "source": [
    "# Visualization on Call To Action\n",
    "\n",
    "with pd.option_context('display.max_colwidth', None):\n",
    "  display(call_to_action_['clean_tweet'].iloc[26:32])\n",
    "\n",
    "plt.figure(figsize = (8, 6))\n",
    "sns.set(style = 'darkgrid')\n",
    "orders = call_to_action_['Sentiments'].value_counts(ascending = False).index\n",
    "sns.countplot(x = call_to_action_['Sentiments'], order = orders).set(title = 'Call To Action Perception')\n",
    "plt.show()"
   ]
  },
  {
   "cell_type": "markdown",
   "metadata": {},
   "source": [
    "- In Summary, we established that there is a general public animosity towards rape and all its occurence based on our sample data. Rape punishement also has a high number of negetive tweets by twitter users which insights a publics support of consequence for rape occurences."
   ]
  },
  {
   "cell_type": "markdown",
   "metadata": {},
   "source": [
    "We will count the most common used words (preferably adjectives) in the entire tweet so to have an idea of the overall polarity of public perception on the subject matter. To do this, we will extract the adjectives (adjectives modifies or describes other words) in each tweet, then use a built in collection module to determine words with highest frequency, we apply sentiment analysis function to determine the polarity, which ultimately drive understanding of general public data perception."
   ]
  },
  {
   "cell_type": "code",
   "execution_count": 199,
   "metadata": {},
   "outputs": [
    {
     "data": {
      "text/html": [
       "<div>\n",
       "<style scoped>\n",
       "    .dataframe tbody tr th:only-of-type {\n",
       "        vertical-align: middle;\n",
       "    }\n",
       "\n",
       "    .dataframe tbody tr th {\n",
       "        vertical-align: top;\n",
       "    }\n",
       "\n",
       "    .dataframe thead th {\n",
       "        text-align: right;\n",
       "    }\n",
       "</style>\n",
       "<table border=\"1\" class=\"dataframe\">\n",
       "  <thead>\n",
       "    <tr style=\"text-align: right;\">\n",
       "      <th></th>\n",
       "      <th>clean_tweet</th>\n",
       "      <th>adj</th>\n",
       "    </tr>\n",
       "  </thead>\n",
       "  <tbody>\n",
       "    <tr>\n",
       "      <th>0</th>\n",
       "      <td>cw: sa the thing about sexual violence in fant...</td>\n",
       "      <td>sexual many pretty strict</td>\n",
       "    </tr>\n",
       "    <tr>\n",
       "      <th>1</th>\n",
       "      <td>Let’s try to stop the euphemisms for truly hor...</td>\n",
       "      <td>horrific acts.Sexual rape.Sexual fellow human</td>\n",
       "    </tr>\n",
       "    <tr>\n",
       "      <th>2</th>\n",
       "      <td>Pedophilia &amp;amp; rape/incest are HEAVY sins....</td>\n",
       "      <td>them.No it.They sick atrocious</td>\n",
       "    </tr>\n",
       "    <tr>\n",
       "      <th>3</th>\n",
       "      <td>Yes, and the girl will also ...</td>\n",
       "      <td>real</td>\n",
       "    </tr>\n",
       "    <tr>\n",
       "      <th>4</th>\n",
       "      <td>It's also annoying when you can't file...</td>\n",
       "      <td>young</td>\n",
       "    </tr>\n",
       "  </tbody>\n",
       "</table>\n",
       "</div>"
      ],
      "text/plain": [
       "                                         clean_tweet  \\\n",
       "0  cw: sa the thing about sexual violence in fant...   \n",
       "1  Let’s try to stop the euphemisms for truly hor...   \n",
       "2    Pedophilia &amp; rape/incest are HEAVY sins....   \n",
       "3                    Yes, and the girl will also ...   \n",
       "4          It's also annoying when you can't file...   \n",
       "\n",
       "                                             adj  \n",
       "0                      sexual many pretty strict  \n",
       "1  horrific acts.Sexual rape.Sexual fellow human  \n",
       "2                 them.No it.They sick atrocious  \n",
       "3                                           real  \n",
       "4                                          young  "
      ]
     },
     "execution_count": 199,
     "metadata": {},
     "output_type": "execute_result"
    }
   ],
   "source": [
    "# First, concat the whole of the  dataframes to make one\n",
    "data_lists = [rape_penalty_, rape_culture2_, victim_blaming_, self_defence_, call_to_action_, Say_no_to_rape_]\n",
    "tweet_list = pd.concat(data_lists)\n",
    "tweet_list = tweet_list[['clean_tweet']]\n",
    "# .........................................\n",
    "\n",
    "# Using the nltk library, we identiy the adjectives\n",
    "from nltk import word_tokenize,sent_tokenize\n",
    "def getAdjectives(tweet):\n",
    "    tweet = word_tokenize(tweet)  # convert string to tokens\n",
    "    tweet = [word for (word, tag) in pos_tag(tweet)\n",
    "             if tag == \"JJ\"]  # pos_tag module in NLTK library\n",
    "    return \" \".join(tweet)  # join words with a space in between them\n",
    "\n",
    "tweets = tweet_list.copy()\n",
    "tweet_list['adj'] = tweet_list['clean_tweet'].apply(getAdjectives)\n",
    "tweet_list.head()"
   ]
  },
  {
   "cell_type": "code",
   "execution_count": 250,
   "metadata": {},
   "outputs": [
    {
     "data": {
      "text/html": [
       "<div>\n",
       "<style scoped>\n",
       "    .dataframe tbody tr th:only-of-type {\n",
       "        vertical-align: middle;\n",
       "    }\n",
       "\n",
       "    .dataframe tbody tr th {\n",
       "        vertical-align: top;\n",
       "    }\n",
       "\n",
       "    .dataframe thead th {\n",
       "        text-align: right;\n",
       "    }\n",
       "</style>\n",
       "<table border=\"1\" class=\"dataframe\">\n",
       "  <thead>\n",
       "    <tr style=\"text-align: right;\">\n",
       "      <th></th>\n",
       "      <th>Words</th>\n",
       "      <th>Count</th>\n",
       "    </tr>\n",
       "  </thead>\n",
       "  <tbody>\n",
       "    <tr>\n",
       "      <th>0</th>\n",
       "      <td>sexual</td>\n",
       "      <td>981</td>\n",
       "    </tr>\n",
       "    <tr>\n",
       "      <th>1</th>\n",
       "      <td>other</td>\n",
       "      <td>455</td>\n",
       "    </tr>\n",
       "    <tr>\n",
       "      <th>2</th>\n",
       "      <td>victim</td>\n",
       "      <td>378</td>\n",
       "    </tr>\n",
       "    <tr>\n",
       "      <th>3</th>\n",
       "      <td>severe</td>\n",
       "      <td>321</td>\n",
       "    </tr>\n",
       "    <tr>\n",
       "      <th>4</th>\n",
       "      <td>wrong</td>\n",
       "      <td>264</td>\n",
       "    </tr>\n",
       "    <tr>\n",
       "      <th>5</th>\n",
       "      <td>own</td>\n",
       "      <td>249</td>\n",
       "    </tr>\n",
       "    <tr>\n",
       "      <th>6</th>\n",
       "      <td>bad</td>\n",
       "      <td>231</td>\n",
       "    </tr>\n",
       "    <tr>\n",
       "      <th>7</th>\n",
       "      <td>such</td>\n",
       "      <td>231</td>\n",
       "    </tr>\n",
       "    <tr>\n",
       "      <th>8</th>\n",
       "      <td>real</td>\n",
       "      <td>198</td>\n",
       "    </tr>\n",
       "    <tr>\n",
       "      <th>9</th>\n",
       "      <td>Rape</td>\n",
       "      <td>190</td>\n",
       "    </tr>\n",
       "  </tbody>\n",
       "</table>\n",
       "</div>"
      ],
      "text/plain": [
       "    Words  Count\n",
       "0  sexual    981\n",
       "1   other    455\n",
       "2  victim    378\n",
       "3  severe    321\n",
       "4   wrong    264\n",
       "5     own    249\n",
       "6     bad    231\n",
       "7    such    231\n",
       "8    real    198\n",
       "9    Rape    190"
      ]
     },
     "execution_count": 250,
     "metadata": {},
     "output_type": "execute_result"
    }
   ],
   "source": [
    "# Display the top words Using Built-in Python Collections module to determine Word frequency\n",
    "\n",
    "full_adj = tweet_list['adj'].tolist()\n",
    "list(map(cleaner, full_adj)) # ................clean the texts\n",
    "adj_list=[]\n",
    "for item in full_adj:\n",
    "    item = item.split()\n",
    "    for i in item:\n",
    "        adj_list.append(i) \n",
    "\n",
    "from collections import Counter\n",
    "counts = Counter(adj_list)\n",
    "cv = pd.DataFrame.from_dict(counts, orient='index').reset_index()\n",
    "cv.columns = ['Words', 'Count']\n",
    "cv.sort_values(by='Count', ascending=False, inplace=True)\n",
    "cv.reset_index(drop = True, inplace = True)\n",
    "cv.drop([cv.index[1], cv.index[3], cv.index[10]], inplace = True)\n",
    "cv.reset_index(drop = True, inplace = True)\n",
    "cv.head(10)"
   ]
  },
  {
   "cell_type": "code",
   "execution_count": 295,
   "metadata": {},
   "outputs": [
    {
     "data": {
      "text/html": [
       "<div>\n",
       "<style scoped>\n",
       "    .dataframe tbody tr th:only-of-type {\n",
       "        vertical-align: middle;\n",
       "    }\n",
       "\n",
       "    .dataframe tbody tr th {\n",
       "        vertical-align: top;\n",
       "    }\n",
       "\n",
       "    .dataframe thead th {\n",
       "        text-align: right;\n",
       "    }\n",
       "</style>\n",
       "<table border=\"1\" class=\"dataframe\">\n",
       "  <thead>\n",
       "    <tr style=\"text-align: right;\">\n",
       "      <th></th>\n",
       "      <th>Words</th>\n",
       "      <th>Count</th>\n",
       "      <th>Polarity</th>\n",
       "      <th>sentiment</th>\n",
       "    </tr>\n",
       "  </thead>\n",
       "  <tbody>\n",
       "    <tr>\n",
       "      <th>0</th>\n",
       "      <td>sexual</td>\n",
       "      <td>981</td>\n",
       "      <td>0.500</td>\n",
       "      <td>Positive</td>\n",
       "    </tr>\n",
       "    <tr>\n",
       "      <th>1</th>\n",
       "      <td>other</td>\n",
       "      <td>455</td>\n",
       "      <td>-0.125</td>\n",
       "      <td>Negetive</td>\n",
       "    </tr>\n",
       "    <tr>\n",
       "      <th>2</th>\n",
       "      <td>victim</td>\n",
       "      <td>378</td>\n",
       "      <td>-0.075</td>\n",
       "      <td>Negetive</td>\n",
       "    </tr>\n",
       "    <tr>\n",
       "      <th>3</th>\n",
       "      <td>severe</td>\n",
       "      <td>321</td>\n",
       "      <td>0.000</td>\n",
       "      <td>Neutral</td>\n",
       "    </tr>\n",
       "    <tr>\n",
       "      <th>4</th>\n",
       "      <td>wrong</td>\n",
       "      <td>264</td>\n",
       "      <td>-0.500</td>\n",
       "      <td>Negetive</td>\n",
       "    </tr>\n",
       "    <tr>\n",
       "      <th>5</th>\n",
       "      <td>own</td>\n",
       "      <td>249</td>\n",
       "      <td>0.600</td>\n",
       "      <td>Positive</td>\n",
       "    </tr>\n",
       "    <tr>\n",
       "      <th>6</th>\n",
       "      <td>bad</td>\n",
       "      <td>231</td>\n",
       "      <td>-0.700</td>\n",
       "      <td>Negetive</td>\n",
       "    </tr>\n",
       "    <tr>\n",
       "      <th>7</th>\n",
       "      <td>such</td>\n",
       "      <td>231</td>\n",
       "      <td>0.000</td>\n",
       "      <td>Neutral</td>\n",
       "    </tr>\n",
       "    <tr>\n",
       "      <th>8</th>\n",
       "      <td>real</td>\n",
       "      <td>198</td>\n",
       "      <td>0.200</td>\n",
       "      <td>Positive</td>\n",
       "    </tr>\n",
       "    <tr>\n",
       "      <th>9</th>\n",
       "      <td>Rape</td>\n",
       "      <td>190</td>\n",
       "      <td>0.000</td>\n",
       "      <td>Neutral</td>\n",
       "    </tr>\n",
       "  </tbody>\n",
       "</table>\n",
       "</div>"
      ],
      "text/plain": [
       "    Words  Count  Polarity sentiment\n",
       "0  sexual    981     0.500  Positive\n",
       "1   other    455    -0.125  Negetive\n",
       "2  victim    378    -0.075  Negetive\n",
       "3  severe    321     0.000   Neutral\n",
       "4   wrong    264    -0.500  Negetive\n",
       "5     own    249     0.600  Positive\n",
       "6     bad    231    -0.700  Negetive\n",
       "7    such    231     0.000   Neutral\n",
       "8    real    198     0.200  Positive\n",
       "9    Rape    190     0.000   Neutral"
      ]
     },
     "metadata": {},
     "output_type": "display_data"
    },
    {
     "data": {
      "image/png": "[encoded data removed]",
      "text/plain": [
       "<Figure size 1152x432 with 2 Axes>"
      ]
     },
     "metadata": {},
     "output_type": "display_data"
    }
   ],
   "source": [
    "counts = cv.head(10) # ................. Instantiate the frame for charting\n",
    "xs = counts['Count'].head(10).to_list()\n",
    "ys = counts['Words'].head(10).to_list()\n",
    "\n",
    "# create polarity for building of sentiments\n",
    "counts['Polarity'] = counts['Words'].apply(get_polarity)\n",
    "counts['sentiment'] = counts['Polarity'].apply(sentiment_score)\n",
    "display(counts)\n",
    "\n",
    "# subplot visualization of most used adjectives and their corresponding sentiments\n",
    "sns.set(style = 'darkgrid')\n",
    "fig, axes = plt.subplots(1, 2, figsize=(16, 6))\n",
    "fig.suptitle('Frequency of Word Modifiers and Corresponding Sentiment Distribution')\n",
    "sns.barplot(counts, x = xs, y = ys, ax = axes[0]).set(title = 'Adjective Frequency')\n",
    "orders = counts['sentiment'].value_counts(ascending = False).index\n",
    "sns.countplot(x = counts['sentiment'],ax = axes[1], order = orders).set(title = 'Sentiments Count')\n",
    "plt.show()"
   ]
  },
  {
   "cell_type": "markdown",
   "metadata": {},
   "source": [
    "The visualization to the right display the most used qualifying word in the public perception <br>\n",
    "The visualization to the left displays the sentiment of the most used qualifying word. This explains that the public mostly has a negetive perception to rape and its areas of discuss. "
   ]
  },
  {
   "cell_type": "markdown",
   "metadata": {},
   "source": [
    "-------------------------------------------------------\n",
    "### Text Classification Modelling for Topic Detection"
   ]
  },
  {
   "cell_type": "code",
   "execution_count": 87,
   "metadata": {},
   "outputs": [
    {
     "data": {
      "text/plain": [
       "(12845, 7)"
      ]
     },
     "execution_count": 87,
     "metadata": {},
     "output_type": "execute_result"
    }
   ],
   "source": [
    "# prepare the dataset to be used for text analysis modelling\n",
    "rape_culture2_['Target'] = 'Rape Culture'\n",
    "rape_penalty_['Target'] = 'Rape penalty'\n",
    "victim_blaming_['Target'] = 'Victim Blaming'\n",
    "self_defence_['Target'] = 'Self Defence'\n",
    "call_to_action_['Target'] = 'Call to Action'\n",
    "\n",
    "# join the dataframes together\n",
    "data_list = [rape_penalty_, rape_culture2_, victim_blaming_, self_defence_, call_to_action_]\n",
    "data = pd.concat(data_list)\n",
    "data.shape"
   ]
  },
  {
   "cell_type": "code",
   "execution_count": 424,
   "metadata": {},
   "outputs": [
    {
     "data": {
      "image/png": "[encoded data removed]",
      "text/plain": [
       "<Figure size 432x288 with 1 Axes>"
      ]
     },
     "metadata": {
      "needs_background": "light"
     },
     "output_type": "display_data"
    }
   ],
   "source": [
    "# Display most common words in the dataframe\n",
    "from wordcloud import WordCloud\n",
    "import matplotlib.pyplot as plt\n",
    "%matplotlib inline\n",
    "\n",
    "words = ' '.join( [tweet for tweet in data['clean_tweet']])\n",
    "wordcloud = WordCloud(width = 1000, height = 700).generate(words)\n",
    "plt.imshow(wordcloud, interpolation  = 'bilinear')\n",
    "plt.axis('off')\n",
    "plt.show()"
   ]
  },
  {
   "cell_type": "code",
   "execution_count": 394,
   "metadata": {},
   "outputs": [
    {
     "data": {
      "text/html": [
       "<div>\n",
       "<style scoped>\n",
       "    .dataframe tbody tr th:only-of-type {\n",
       "        vertical-align: middle;\n",
       "    }\n",
       "\n",
       "    .dataframe tbody tr th {\n",
       "        vertical-align: top;\n",
       "    }\n",
       "\n",
       "    .dataframe thead th {\n",
       "        text-align: right;\n",
       "    }\n",
       "</style>\n",
       "<table border=\"1\" class=\"dataframe\">\n",
       "  <thead>\n",
       "    <tr style=\"text-align: right;\">\n",
       "      <th></th>\n",
       "      <th>Date</th>\n",
       "      <th>DisplayName</th>\n",
       "      <th>clean_tweet</th>\n",
       "      <th>Subjectivity</th>\n",
       "      <th>Polarity</th>\n",
       "      <th>Sentiments</th>\n",
       "      <th>Target</th>\n",
       "    </tr>\n",
       "  </thead>\n",
       "  <tbody>\n",
       "    <tr>\n",
       "      <th>0</th>\n",
       "      <td>2022-07-2</td>\n",
       "      <td>jude 🦴hell detective (DOLL)</td>\n",
       "      <td>cw: sa the thing about sexual violence in fant...</td>\n",
       "      <td>0.777778</td>\n",
       "      <td>0.416667</td>\n",
       "      <td>Positive</td>\n",
       "      <td>Rape penalty</td>\n",
       "    </tr>\n",
       "    <tr>\n",
       "      <th>1</th>\n",
       "      <td>2022-07-2</td>\n",
       "      <td>Rachel (is Awake) Horton</td>\n",
       "      <td>Let’s try to stop the euphemisms for truly hor...</td>\n",
       "      <td>0.700000</td>\n",
       "      <td>-0.500000</td>\n",
       "      <td>Positive</td>\n",
       "      <td>Rape penalty</td>\n",
       "    </tr>\n",
       "    <tr>\n",
       "      <th>2</th>\n",
       "      <td>2022-07-2</td>\n",
       "      <td>Gina Lee  she/her DMs</td>\n",
       "      <td>Pedophilia &amp;amp; rape/incest are HEAVY sins....</td>\n",
       "      <td>0.765306</td>\n",
       "      <td>-0.302041</td>\n",
       "      <td>Positive</td>\n",
       "      <td>Rape penalty</td>\n",
       "    </tr>\n",
       "    <tr>\n",
       "      <th>3</th>\n",
       "      <td>2022-07-2</td>\n",
       "      <td>OnyekaChi</td>\n",
       "      <td>Yes, and the girl will also ...</td>\n",
       "      <td>0.300000</td>\n",
       "      <td>0.200000</td>\n",
       "      <td>Positive</td>\n",
       "      <td>Rape penalty</td>\n",
       "    </tr>\n",
       "    <tr>\n",
       "      <th>4</th>\n",
       "      <td>2022-07-2</td>\n",
       "      <td>angela55</td>\n",
       "      <td>It's also annoying when you can't file...</td>\n",
       "      <td>0.500000</td>\n",
       "      <td>-0.166667</td>\n",
       "      <td>Negetive</td>\n",
       "      <td>Rape penalty</td>\n",
       "    </tr>\n",
       "    <tr>\n",
       "      <th>...</th>\n",
       "      <td>...</td>\n",
       "      <td>...</td>\n",
       "      <td>...</td>\n",
       "      <td>...</td>\n",
       "      <td>...</td>\n",
       "      <td>...</td>\n",
       "      <td>...</td>\n",
       "    </tr>\n",
       "    <tr>\n",
       "      <th>1084</th>\n",
       "      <td>2022-07-2</td>\n",
       "      <td>Shoaib Taimur</td>\n",
       "      <td>RT   Call to Action: Kidnapping, torture, murd...</td>\n",
       "      <td>0.100000</td>\n",
       "      <td>0.100000</td>\n",
       "      <td>Neutral</td>\n",
       "      <td>Call to Action</td>\n",
       "    </tr>\n",
       "    <tr>\n",
       "      <th>1085</th>\n",
       "      <td>2022-07-2</td>\n",
       "      <td>sexgenderbody</td>\n",
       "      <td>New post by arvan at  | Call to Action: Kidnap...</td>\n",
       "      <td>0.277273</td>\n",
       "      <td>0.118182</td>\n",
       "      <td>Neutral</td>\n",
       "      <td>Call to Action</td>\n",
       "    </tr>\n",
       "    <tr>\n",
       "      <th>1086</th>\n",
       "      <td>2022-07-2</td>\n",
       "      <td>CSTS - Serenity</td>\n",
       "      <td>Good news: Victory in Zambian civil case of sc...</td>\n",
       "      <td>0.566667</td>\n",
       "      <td>0.016667</td>\n",
       "      <td>Positive</td>\n",
       "      <td>Call to Action</td>\n",
       "    </tr>\n",
       "    <tr>\n",
       "      <th>1087</th>\n",
       "      <td>2022-07-2</td>\n",
       "      <td>WBAL-TV 11 Baltimore</td>\n",
       "      <td>NAACP Joins Rape Investigation Effort: There i...</td>\n",
       "      <td>0.466667</td>\n",
       "      <td>0.300000</td>\n",
       "      <td>Neutral</td>\n",
       "      <td>Call to Action</td>\n",
       "    </tr>\n",
       "    <tr>\n",
       "      <th>1088</th>\n",
       "      <td>2022-07-2</td>\n",
       "      <td>Scientist Solutions</td>\n",
       "      <td>Call to action following shock rape stats - L...</td>\n",
       "      <td>0.100000</td>\n",
       "      <td>0.050000</td>\n",
       "      <td>Positive</td>\n",
       "      <td>Call to Action</td>\n",
       "    </tr>\n",
       "  </tbody>\n",
       "</table>\n",
       "<p>12845 rows × 7 columns</p>\n",
       "</div>"
      ],
      "text/plain": [
       "           Date                  DisplayName  \\\n",
       "0     2022-07-2  jude 🦴hell detective (DOLL)   \n",
       "1     2022-07-2     Rachel (is Awake) Horton   \n",
       "2     2022-07-2        Gina Lee  she/her DMs   \n",
       "3     2022-07-2                    OnyekaChi   \n",
       "4     2022-07-2                     angela55   \n",
       "...         ...                          ...   \n",
       "1084  2022-07-2                Shoaib Taimur   \n",
       "1085  2022-07-2                sexgenderbody   \n",
       "1086  2022-07-2              CSTS - Serenity   \n",
       "1087  2022-07-2         WBAL-TV 11 Baltimore   \n",
       "1088  2022-07-2          Scientist Solutions   \n",
       "\n",
       "                                            clean_tweet  Subjectivity  \\\n",
       "0     cw: sa the thing about sexual violence in fant...      0.777778   \n",
       "1     Let’s try to stop the euphemisms for truly hor...      0.700000   \n",
       "2       Pedophilia &amp; rape/incest are HEAVY sins....      0.765306   \n",
       "3                       Yes, and the girl will also ...      0.300000   \n",
       "4             It's also annoying when you can't file...      0.500000   \n",
       "...                                                 ...           ...   \n",
       "1084  RT   Call to Action: Kidnapping, torture, murd...      0.100000   \n",
       "1085  New post by arvan at  | Call to Action: Kidnap...      0.277273   \n",
       "1086  Good news: Victory in Zambian civil case of sc...      0.566667   \n",
       "1087  NAACP Joins Rape Investigation Effort: There i...      0.466667   \n",
       "1088   Call to action following shock rape stats - L...      0.100000   \n",
       "\n",
       "      Polarity Sentiments          Target  \n",
       "0     0.416667   Positive    Rape penalty  \n",
       "1    -0.500000   Positive    Rape penalty  \n",
       "2    -0.302041   Positive    Rape penalty  \n",
       "3     0.200000   Positive    Rape penalty  \n",
       "4    -0.166667   Negetive    Rape penalty  \n",
       "...        ...        ...             ...  \n",
       "1084  0.100000    Neutral  Call to Action  \n",
       "1085  0.118182    Neutral  Call to Action  \n",
       "1086  0.016667   Positive  Call to Action  \n",
       "1087  0.300000    Neutral  Call to Action  \n",
       "1088  0.050000   Positive  Call to Action  \n",
       "\n",
       "[12845 rows x 7 columns]"
      ]
     },
     "execution_count": 394,
     "metadata": {},
     "output_type": "execute_result"
    }
   ],
   "source": [
    "data"
   ]
  },
  {
   "cell_type": "code",
   "execution_count": 395,
   "metadata": {},
   "outputs": [
    {
     "data": {
      "text/html": [
       "<div>\n",
       "<style scoped>\n",
       "    .dataframe tbody tr th:only-of-type {\n",
       "        vertical-align: middle;\n",
       "    }\n",
       "\n",
       "    .dataframe tbody tr th {\n",
       "        vertical-align: top;\n",
       "    }\n",
       "\n",
       "    .dataframe thead th {\n",
       "        text-align: right;\n",
       "    }\n",
       "</style>\n",
       "<table border=\"1\" class=\"dataframe\">\n",
       "  <thead>\n",
       "    <tr style=\"text-align: right;\">\n",
       "      <th></th>\n",
       "      <th>Date</th>\n",
       "      <th>DisplayName</th>\n",
       "      <th>clean_tweet</th>\n",
       "      <th>Target</th>\n",
       "    </tr>\n",
       "  </thead>\n",
       "  <tbody>\n",
       "    <tr>\n",
       "      <th>0</th>\n",
       "      <td>2022-07-2</td>\n",
       "      <td>jude 🦴hell detective (DOLL)</td>\n",
       "      <td>cw: sa the thing about sexual violence in fant...</td>\n",
       "      <td>rape penalty</td>\n",
       "    </tr>\n",
       "    <tr>\n",
       "      <th>1</th>\n",
       "      <td>2022-07-2</td>\n",
       "      <td>Rachel (is Awake) Horton</td>\n",
       "      <td>let’s try to stop the euphemisms for truly hor...</td>\n",
       "      <td>rape penalty</td>\n",
       "    </tr>\n",
       "    <tr>\n",
       "      <th>2</th>\n",
       "      <td>2022-07-2</td>\n",
       "      <td>Gina Lee  she/her DMs</td>\n",
       "      <td>pedophilia &amp;amp; rape/incest are heavy sins....</td>\n",
       "      <td>rape penalty</td>\n",
       "    </tr>\n",
       "    <tr>\n",
       "      <th>3</th>\n",
       "      <td>2022-07-2</td>\n",
       "      <td>OnyekaChi</td>\n",
       "      <td>yes, and the girl will also ...</td>\n",
       "      <td>rape penalty</td>\n",
       "    </tr>\n",
       "    <tr>\n",
       "      <th>4</th>\n",
       "      <td>2022-07-2</td>\n",
       "      <td>angela55</td>\n",
       "      <td>it's also annoying when you can't file...</td>\n",
       "      <td>rape penalty</td>\n",
       "    </tr>\n",
       "    <tr>\n",
       "      <th>...</th>\n",
       "      <td>...</td>\n",
       "      <td>...</td>\n",
       "      <td>...</td>\n",
       "      <td>...</td>\n",
       "    </tr>\n",
       "    <tr>\n",
       "      <th>1084</th>\n",
       "      <td>2022-07-2</td>\n",
       "      <td>Shoaib Taimur</td>\n",
       "      <td>rt   call to action: kidnapping, torture, murd...</td>\n",
       "      <td>call to action</td>\n",
       "    </tr>\n",
       "    <tr>\n",
       "      <th>1085</th>\n",
       "      <td>2022-07-2</td>\n",
       "      <td>sexgenderbody</td>\n",
       "      <td>new post by arvan at  | call to action: kidnap...</td>\n",
       "      <td>call to action</td>\n",
       "    </tr>\n",
       "    <tr>\n",
       "      <th>1086</th>\n",
       "      <td>2022-07-2</td>\n",
       "      <td>CSTS - Serenity</td>\n",
       "      <td>good news: victory in zambian civil case of sc...</td>\n",
       "      <td>call to action</td>\n",
       "    </tr>\n",
       "    <tr>\n",
       "      <th>1087</th>\n",
       "      <td>2022-07-2</td>\n",
       "      <td>WBAL-TV 11 Baltimore</td>\n",
       "      <td>naacp joins rape investigation effort: there i...</td>\n",
       "      <td>call to action</td>\n",
       "    </tr>\n",
       "    <tr>\n",
       "      <th>1088</th>\n",
       "      <td>2022-07-2</td>\n",
       "      <td>Scientist Solutions</td>\n",
       "      <td>call to action following shock rape stats - l...</td>\n",
       "      <td>call to action</td>\n",
       "    </tr>\n",
       "  </tbody>\n",
       "</table>\n",
       "<p>12845 rows × 4 columns</p>\n",
       "</div>"
      ],
      "text/plain": [
       "           Date                  DisplayName  \\\n",
       "0     2022-07-2  jude 🦴hell detective (DOLL)   \n",
       "1     2022-07-2     Rachel (is Awake) Horton   \n",
       "2     2022-07-2        Gina Lee  she/her DMs   \n",
       "3     2022-07-2                    OnyekaChi   \n",
       "4     2022-07-2                     angela55   \n",
       "...         ...                          ...   \n",
       "1084  2022-07-2                Shoaib Taimur   \n",
       "1085  2022-07-2                sexgenderbody   \n",
       "1086  2022-07-2              CSTS - Serenity   \n",
       "1087  2022-07-2         WBAL-TV 11 Baltimore   \n",
       "1088  2022-07-2          Scientist Solutions   \n",
       "\n",
       "                                            clean_tweet          Target  \n",
       "0     cw: sa the thing about sexual violence in fant...    rape penalty  \n",
       "1     let’s try to stop the euphemisms for truly hor...    rape penalty  \n",
       "2       pedophilia &amp; rape/incest are heavy sins....    rape penalty  \n",
       "3                       yes, and the girl will also ...    rape penalty  \n",
       "4             it's also annoying when you can't file...    rape penalty  \n",
       "...                                                 ...             ...  \n",
       "1084  rt   call to action: kidnapping, torture, murd...  call to action  \n",
       "1085  new post by arvan at  | call to action: kidnap...  call to action  \n",
       "1086  good news: victory in zambian civil case of sc...  call to action  \n",
       "1087  naacp joins rape investigation effort: there i...  call to action  \n",
       "1088   call to action following shock rape stats - l...  call to action  \n",
       "\n",
       "[12845 rows x 4 columns]"
      ]
     },
     "execution_count": 395,
     "metadata": {},
     "output_type": "execute_result"
    }
   ],
   "source": [
    "# Drop unwanted columns and turn all value to lowercase for easy NLP\n",
    "\n",
    "dx = data.drop(['Subjectivity', 'Polarity', 'Sentiments'],axis = 1)\n",
    "dx['clean_tweet'] = dx['clean_tweet'].apply(str) # Convert all to string\n",
    "dx['clean_tweet'] = dx['clean_tweet'].str.lower()\n",
    "\n",
    "dx['Target'] = dx['Target'].apply(str) # Convert all to string\n",
    "dx['Target'] = dx['Target'].str.lower()\n",
    "dx"
   ]
  },
  {
   "cell_type": "code",
   "execution_count": 396,
   "metadata": {},
   "outputs": [
    {
     "name": "stdout",
     "output_type": "stream",
     "text": [
      "train size:  (10276, 4)\n",
      "test size:  (2569, 4)\n"
     ]
    }
   ],
   "source": [
    "train, test = train_test_split(dx, test_size= 0.2, random_state = 23)\n",
    "print(f'train size: ', train.shape)\n",
    "print(f'test size: ', test.shape)"
   ]
  },
  {
   "cell_type": "code",
   "execution_count": 397,
   "metadata": {},
   "outputs": [
    {
     "data": {
      "text/plain": [
       "['  when a black woman was fired from uj for \"racism\" &amp; \"sexism\" you were silent. but you are out here protecting rape culture with macg. y\\'all token hires have done the same damage as the apartheid regime 🤷🏿\\u200d♀️',\n",
       " 'nailed it   - also   to businesswomen at corporations around the world:“if your company moves to la., be prepared for 2nd class citizenship. you’ll lose control over your body, health care, and live in a rape culture. we’re 100% regressive &amp; proud of it!” ',\n",
       " '      1 out of 14-17 males bred in the ancient times. which makes everyone baffled: how did russians, statistically savaage, yet with small stature &amp; penis length, flourish? explains their rape culture. survival of the shittiest',\n",
       " '  ronaldo missed rashfords penalty in the euros killing his confidence then benched him for elanga, he arrested greenwood for rape, injured cavani and while still at juve he somehow killed martial\\'s  mojo\"it\\'s not a coincidence...\"simple minds are attracted to simple answers']"
      ]
     },
     "execution_count": 397,
     "metadata": {},
     "output_type": "execute_result"
    }
   ],
   "source": [
    "# Joining all the sentences in the train dataframe together\n",
    "\n",
    "ds = []\n",
    "for row in range(0,len(train.index)):\n",
    "    ds.append(' '.join(str(x) for x in train.iloc[row, 2:3]))\n",
    "\n",
    "# Display the data\n",
    "ds[1:5]"
   ]
  },
  {
   "cell_type": "code",
   "execution_count": 398,
   "metadata": {},
   "outputs": [
    {
     "data": {
      "text/plain": [
       "(10276, 16985)"
      ]
     },
     "execution_count": 398,
     "metadata": {},
     "output_type": "execute_result"
    }
   ],
   "source": [
    "# After preparation of our dataset, nextup we countVectorize to put them into binaries of 1s and 0s.\n",
    "# This auto ascribes a particular number to a letter\n",
    "# While ngram takes the letters in pairs and ascribes a number to them\n",
    "\n",
    "# Implement Bag of Words\n",
    "vector = TfidfVectorizer()\n",
    "train_set = vector.fit_transform(ds) # This ascribes count to a particular letter\n",
    "\n",
    "train_set.shape"
   ]
  },
  {
   "cell_type": "code",
   "execution_count": 399,
   "metadata": {},
   "outputs": [
    {
     "data": {
      "text/plain": [
       "[\"    if all aborted babies were conceived through rape and incest then it's time for stiffer penalties on rape and incest\",\n",
       " '  the baby is innocent. prosecute the man to the fullest extent of the law (i would support the death penalty for rape) and protect the innocent parties. adoption is a great option. also rape is the reason for less than 1% or abortions. in 99+/100 cases, the woman chose.',\n",
       " \"        and you answer your question, i don't think there's any biological element to how violent or aggressive a person is. that's a symptom of toxic masculinity, and rape culture. our patriarchal society is the problem. there's no biological evidence for the ability to commit crime.\",\n",
       " 'is there a  argument out there that doesn’t involve gun laws, rape and incest, death penalty of murderers, or stating how religion is bad?  an actual reason why abortion should be legal in cases that don’t involve rape/incest, or when the mothers life is in danger. 1/2']"
      ]
     },
     "execution_count": 399,
     "metadata": {},
     "output_type": "execute_result"
    }
   ],
   "source": [
    "# perfrom same preprocessing step for Test data\n",
    "\n",
    "# Join all the test dataframe together\n",
    "dss = []\n",
    "for row in range(0,len(test.index)):\n",
    "    dss.append(' '.join(str(x) for x in test.iloc[row, 2:3]))\n",
    "\n",
    "# Display the data\n",
    "dss[1:5]"
   ]
  },
  {
   "cell_type": "code",
   "execution_count": 400,
   "metadata": {},
   "outputs": [
    {
     "data": {
      "text/plain": [
       "(2569, 16985)"
      ]
     },
     "execution_count": 400,
     "metadata": {},
     "output_type": "execute_result"
    }
   ],
   "source": [
    "# fit the count on the data\n",
    "test_set = vector.transform(dss) # Fit transform on 'ds' version of test data  - dss\n",
    "test_set.shape\n"
   ]
  },
  {
   "cell_type": "code",
   "execution_count": 401,
   "metadata": {},
   "outputs": [
    {
     "data": {
      "text/html": [
       "<style>#sk-container-id-6 {color: black;background-color: white;}#sk-container-id-6 pre{padding: 0;}#sk-container-id-6 div.sk-toggleable {background-color: white;}#sk-container-id-6 label.sk-toggleable__label {cursor: pointer;display: block;width: 100%;margin-bottom: 0;padding: 0.3em;box-sizing: border-box;text-align: center;}#sk-container-id-6 label.sk-toggleable__label-arrow:before {content: \"▸\";float: left;margin-right: 0.25em;color: #696969;}#sk-container-id-6 label.sk-toggleable__label-arrow:hover:before {color: black;}#sk-container-id-6 div.sk-estimator:hover label.sk-toggleable__label-arrow:before {color: black;}#sk-container-id-6 div.sk-toggleable__content {max-height: 0;max-width: 0;overflow: hidden;text-align: left;background-color: #f0f8ff;}#sk-container-id-6 div.sk-toggleable__content pre {margin: 0.2em;color: black;border-radius: 0.25em;background-color: #f0f8ff;}#sk-container-id-6 input.sk-toggleable__control:checked~div.sk-toggleable__content {max-height: 200px;max-width: 100%;overflow: auto;}#sk-container-id-6 input.sk-toggleable__control:checked~label.sk-toggleable__label-arrow:before {content: \"▾\";}#sk-container-id-6 div.sk-estimator input.sk-toggleable__control:checked~label.sk-toggleable__label {background-color: #d4ebff;}#sk-container-id-6 div.sk-label input.sk-toggleable__control:checked~label.sk-toggleable__label {background-color: #d4ebff;}#sk-container-id-6 input.sk-hidden--visually {border: 0;clip: rect(1px 1px 1px 1px);clip: rect(1px, 1px, 1px, 1px);height: 1px;margin: -1px;overflow: hidden;padding: 0;position: absolute;width: 1px;}#sk-container-id-6 div.sk-estimator {font-family: monospace;background-color: #f0f8ff;border: 1px dotted black;border-radius: 0.25em;box-sizing: border-box;margin-bottom: 0.5em;}#sk-container-id-6 div.sk-estimator:hover {background-color: #d4ebff;}#sk-container-id-6 div.sk-parallel-item::after {content: \"\";width: 100%;border-bottom: 1px solid gray;flex-grow: 1;}#sk-container-id-6 div.sk-label:hover label.sk-toggleable__label {background-color: #d4ebff;}#sk-container-id-6 div.sk-serial::before {content: \"\";position: absolute;border-left: 1px solid gray;box-sizing: border-box;top: 0;bottom: 0;left: 50%;z-index: 0;}#sk-container-id-6 div.sk-serial {display: flex;flex-direction: column;align-items: center;background-color: white;padding-right: 0.2em;padding-left: 0.2em;position: relative;}#sk-container-id-6 div.sk-item {position: relative;z-index: 1;}#sk-container-id-6 div.sk-parallel {display: flex;align-items: stretch;justify-content: center;background-color: white;position: relative;}#sk-container-id-6 div.sk-item::before, #sk-container-id-6 div.sk-parallel-item::before {content: \"\";position: absolute;border-left: 1px solid gray;box-sizing: border-box;top: 0;bottom: 0;left: 50%;z-index: -1;}#sk-container-id-6 div.sk-parallel-item {display: flex;flex-direction: column;z-index: 1;position: relative;background-color: white;}#sk-container-id-6 div.sk-parallel-item:first-child::after {align-self: flex-end;width: 50%;}#sk-container-id-6 div.sk-parallel-item:last-child::after {align-self: flex-start;width: 50%;}#sk-container-id-6 div.sk-parallel-item:only-child::after {width: 0;}#sk-container-id-6 div.sk-dashed-wrapped {border: 1px dashed gray;margin: 0 0.4em 0.5em 0.4em;box-sizing: border-box;padding-bottom: 0.4em;background-color: white;}#sk-container-id-6 div.sk-label label {font-family: monospace;font-weight: bold;display: inline-block;line-height: 1.2em;}#sk-container-id-6 div.sk-label-container {text-align: center;}#sk-container-id-6 div.sk-container {/* jupyter's `normalize.less` sets `[hidden] { display: none; }` but bootstrap.min.css set `[hidden] { display: none !important; }` so we also need the `!important` here to be able to override the default hidden behavior on the sphinx rendered scikit-learn.org. See: https://github.com/scikit-learn/scikit-learn/issues/21755 */display: inline-block !important;position: relative;}#sk-container-id-6 div.sk-text-repr-fallback {display: none;}</style><div id=\"sk-container-id-6\" class=\"sk-top-container\"><div class=\"sk-text-repr-fallback\"><pre>MultinomialNB()</pre><b>In a Jupyter environment, please rerun this cell to show the HTML representation or trust the notebook. <br />On GitHub, the HTML representation is unable to render, please try loading this page with nbviewer.org.</b></div><div class=\"sk-container\" hidden><div class=\"sk-item\"><div class=\"sk-estimator sk-toggleable\"><input class=\"sk-toggleable__control sk-hidden--visually\" id=\"sk-estimator-id-6\" type=\"checkbox\" checked><label for=\"sk-estimator-id-6\" class=\"sk-toggleable__label sk-toggleable__label-arrow\">MultinomialNB</label><div class=\"sk-toggleable__content\"><pre>MultinomialNB()</pre></div></div></div></div></div>"
      ],
      "text/plain": [
       "MultinomialNB()"
      ]
     },
     "execution_count": 401,
     "metadata": {},
     "output_type": "execute_result"
    }
   ],
   "source": [
    "# Train using the RandomForest and the MultinomialNB models respectively\n",
    "\n",
    "rf = RandomForestClassifier(n_estimators=200, criterion='entropy')\n",
    "rf.fit(train_set, train['Target'])\n",
    "\n",
    "\n",
    "nv =  MultinomialNB()\n",
    "nv.fit(train_set, train['Target'])\n"
   ]
  },
  {
   "cell_type": "code",
   "execution_count": 402,
   "metadata": {},
   "outputs": [],
   "source": [
    "rf_pred = rf.predict(test_set)\n",
    "nv_pred = nv.predict(test_set)"
   ]
  },
  {
   "cell_type": "code",
   "execution_count": 403,
   "metadata": {},
   "outputs": [
    {
     "name": "stdout",
     "output_type": "stream",
     "text": [
      "                precision    recall  f1-score   support\n",
      "\n",
      "call to action       1.00      0.99      0.99       221\n",
      "  rape culture       0.98      0.98      0.98       747\n",
      "  rape penalty       1.00      0.99      0.99       801\n",
      "  self defence       1.00      0.64      0.78        11\n",
      "victim blaming       0.98      0.99      0.98       789\n",
      "\n",
      "      accuracy                           0.98      2569\n",
      "     macro avg       0.99      0.92      0.94      2569\n",
      "  weighted avg       0.98      0.98      0.98      2569\n",
      "\n",
      "accuracy score:  0.9844297391981316\n"
     ]
    }
   ],
   "source": [
    "from sklearn.metrics import accuracy_score, classification_report, confusion_matrix\n",
    "\n",
    "\n",
    "classify = classification_report(test['Target'], rf_pred )\n",
    "print(classify)\n",
    "score = accuracy_score(test['Target'], rf_pred )\n",
    "print(f'accuracy score: ',score)"
   ]
  },
  {
   "cell_type": "markdown",
   "metadata": {},
   "source": [
    "----------------------------------------------\n",
    "### Model Testing"
   ]
  },
  {
   "cell_type": "code",
   "execution_count": 415,
   "metadata": {},
   "outputs": [
    {
     "data": {
      "text/plain": [
       "array(['  We need to make the penalties for rape much higher. The death penalty would be fine with me, but, castration might even be better.',\n",
       "       '  Bro zubair delted fb id for numerous insulting religion  but u are silent watching  rape threat death penalty for quoting Islamic text  now u also want freedom to insult Hinduism  than u cry why bjp is winning  do u think public  are idiot  ya u are only know how to manpulted ?'],\n",
       "      dtype=object)"
      ]
     },
     "execution_count": 415,
     "metadata": {},
     "output_type": "execute_result"
    }
   ],
   "source": [
    "data.iloc[2000:2002, 2].values"
   ]
  },
  {
   "cell_type": "code",
   "execution_count": 418,
   "metadata": {},
   "outputs": [
    {
     "data": {
      "text/plain": [
       "array(['rape penalty'], dtype='<U14')"
      ]
     },
     "execution_count": 418,
     "metadata": {},
     "output_type": "execute_result"
    }
   ],
   "source": [
    "# Testing model \n",
    "word = data.iloc[2000:2001, 2].values\n",
    "count_word = vector.transform(word)\n",
    "preds = nv.predict(count_word)\n",
    "preds"
   ]
  },
  {
   "cell_type": "code",
   "execution_count": 422,
   "metadata": {},
   "outputs": [
    {
     "data": {
      "text/plain": [
       "array(['  The penalty for rape should be death, public execution preferably. Give a year in jail to attempt to prove their innocence, then day 366 after conviction they are put to death by the state.'],\n",
       "      dtype=object)"
      ]
     },
     "execution_count": 422,
     "metadata": {},
     "output_type": "execute_result"
    }
   ],
   "source": [
    "data.iloc[1084:1085, 2].values"
   ]
  },
  {
   "cell_type": "code",
   "execution_count": 420,
   "metadata": {},
   "outputs": [
    {
     "data": {
      "text/plain": [
       "array(['rape penalty'], dtype='<U14')"
      ]
     },
     "execution_count": 420,
     "metadata": {},
     "output_type": "execute_result"
    }
   ],
   "source": [
    "word = data.iloc[1084:1085, 2].values\n",
    "count_word = vector.transform(word)\n",
    "preds = nv.predict(count_word)\n",
    "preds"
   ]
  },
  {
   "cell_type": "markdown",
   "metadata": {},
   "source": [
    "THANK YOU"
   ]
  }
 ],
 "metadata": {
  "kernelspec": {
   "display_name": "Python 3 (ipykernel)",
   "language": "python",
   "name": "python3"
  },
  "language_info": {
   "codemirror_mode": {
    "name": "ipython",
    "version": 3
   },
   "file_extension": ".py",
   "mimetype": "text/x-python",
   "name": "python",
   "nbconvert_exporter": "python",
   "pygments_lexer": "ipython3",
   "version": "3.8.2"
  },
  "vscode": {
   "interpreter": {
    "hash": "44af1c4dd14c10851c8a646521365c8965e8ef0189e835ac25b3a431abd3190c"
   }
  }
 },
 "nbformat": 4,
 "nbformat_minor": 2
}
